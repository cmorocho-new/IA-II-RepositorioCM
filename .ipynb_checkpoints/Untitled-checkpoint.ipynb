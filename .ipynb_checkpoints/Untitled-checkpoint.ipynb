{
 "cells": [
  {
   "cell_type": "code",
   "execution_count": 1,
   "metadata": {},
   "outputs": [],
   "source": [
    "# Importacion de las librerias\n",
    "import matplotlib.pyplot as pp\n",
    "import numpy as np"
   ]
  },
  {
   "cell_type": "code",
   "execution_count": 12,
   "metadata": {},
   "outputs": [],
   "source": [
    "# Inisializamos los valores\n",
    "W = np.array([0.23, -0.1])\n",
    "X = np.array([[1.53, 0.53],\n",
    "              [1.5, 1.0],\n",
    "              [2.0, 1.73],\n",
    "              [3.0, 1.5]])\n",
    "d = np.array([1, 1, 0, 0])\n",
    "t = 1.47\n",
    "a = 1.0"
   ]
  },
  {
   "cell_type": "code",
   "execution_count": 13,
   "metadata": {},
   "outputs": [],
   "source": [
    "funcion_t = lambda x: 1 if np.dot(W, x) + t >= 0 else 0"
   ]
  },
  {
   "cell_type": "code",
   "execution_count": 14,
   "metadata": {},
   "outputs": [
    {
     "data": {
      "image/png": "[encoded data removed]",
      "text/plain": [
       "<Figure size 432x288 with 1 Axes>"
      ]
     },
     "metadata": {
      "needs_background": "light"
     },
     "output_type": "display_data"
    }
   ],
   "source": [
    "# Dibujo de la grafica\n",
    "pp.scatter(X[:,0], X[:,1], color=['blue' if i==1 else 'red' for i in d])\n",
    "pp.grid(True)\n",
    "pp.show()"
   ]
  },
  {
   "cell_type": "code",
   "execution_count": 15,
   "metadata": {},
   "outputs": [
    {
     "name": "stdout",
     "output_type": "stream",
     "text": [
      "CALCULO PUNTO: [0, [1.53 0.53]]\n",
      "y 1\n",
      "e 0\n",
      "----------------------\n",
      "CALCULO PUNTO: [1, [1.5 1. ]]\n",
      "y 1\n",
      "e 0\n",
      "----------------------\n",
      "CALCULO PUNTO: [2, [2.   1.73]]\n",
      "y 1\n",
      "e -1\n",
      "W2 [-1.77 -1.83]\n",
      "t2 0.47\n",
      "----------------------\n",
      "CALCULO PUNTO: [3, [3.  1.5]]\n",
      "y 0\n",
      "e 0\n",
      "----------------------\n",
      "CALCULO PUNTO: [0, [1.53 0.53]]\n",
      "y 0\n",
      "e 1\n",
      "W0 [-0.24 -1.3 ]\n",
      "t0 1.47\n",
      "----------------------\n",
      "CALCULO PUNTO: [1, [1.5 1. ]]\n",
      "y 0\n",
      "e 1\n",
      "W1 [ 1.26 -0.3 ]\n",
      "t1 2.4699999999999998\n",
      "----------------------\n",
      "CALCULO PUNTO: [2, [2.   1.73]]\n",
      "y 1\n",
      "e -1\n",
      "W2 [-0.74 -2.03]\n",
      "t2 1.4699999999999998\n",
      "----------------------\n",
      "CALCULO PUNTO: [3, [3.  1.5]]\n",
      "y 0\n",
      "e 0\n",
      "----------------------\n",
      "CALCULO PUNTO: [0, [1.53 0.53]]\n",
      "y 0\n",
      "e 1\n",
      "W0 [ 0.79 -1.5 ]\n",
      "t0 2.4699999999999998\n",
      "----------------------\n",
      "CALCULO PUNTO: [1, [1.5 1. ]]\n",
      "y 1\n",
      "e 0\n",
      "----------------------\n",
      "CALCULO PUNTO: [2, [2.   1.73]]\n",
      "y 1\n",
      "e -1\n",
      "W2 [-1.21 -3.23]\n",
      "t2 1.4699999999999998\n",
      "----------------------\n",
      "CALCULO PUNTO: [3, [3.  1.5]]\n",
      "y 0\n",
      "e 0\n",
      "----------------------\n",
      "CALCULO PUNTO: [0, [1.53 0.53]]\n",
      "y 0\n",
      "e 1\n",
      "W0 [ 0.32 -2.7 ]\n",
      "t0 2.4699999999999998\n",
      "----------------------\n",
      "CALCULO PUNTO: [1, [1.5 1. ]]\n",
      "y 1\n",
      "e 0\n",
      "----------------------\n",
      "CALCULO PUNTO: [2, [2.   1.73]]\n",
      "y 0\n",
      "e 0\n",
      "----------------------\n",
      "CALCULO PUNTO: [3, [3.  1.5]]\n",
      "y 0\n",
      "e 0\n",
      "----------------------\n",
      "CALCULO PUNTO: [0, [1.53 0.53]]\n",
      "y 1\n",
      "e 0\n",
      "----------------------\n",
      "CALCULO PUNTO: [1, [1.5 1. ]]\n",
      "y 1\n",
      "e 0\n",
      "----------------------\n",
      "CALCULO PUNTO: [2, [2.   1.73]]\n",
      "y 0\n",
      "e 0\n",
      "----------------------\n",
      "CALCULO PUNTO: [3, [3.  1.5]]\n",
      "y 0\n",
      "e 0\n",
      "----------------------\n"
     ]
    }
   ],
   "source": [
    "# realizams el proceso\n",
    "iteracion = 0\n",
    "while iteracion >= 0:\n",
    "    iteracion += 1\n",
    "    sin_cambio = 0\n",
    "    for i, x in enumerate(X):\n",
    "        print(f\"CALCULO PUNTO: [{i}, {x}]\")\n",
    "        n = funcion_t(x)\n",
    "        # calculamos el error \n",
    "        error = d[i] - n\n",
    "        print(\"y\", n)\n",
    "        print(\"e\", error)\n",
    "        if error == 0:\n",
    "            sin_cambio += 1\n",
    "        else:\n",
    "            W = W + a * error * x\n",
    "            t = t + a * error\n",
    "            print(f\"W{i}\", W)\n",
    "            print(f\"t{i}\", t)\n",
    "        print(\"----------------------\")"
   ]
  },
  {
   "cell_type": "code",
   "execution_count": null,
   "metadata": {},
   "outputs": [],
   "source": []
  }
 ],
 "metadata": {
  "kernelspec": {
   "display_name": "Python 3",
   "language": "python",
   "name": "python3"
  },
  "language_info": {
   "codemirror_mode": {
    "name": "ipython",
    "version": 3
   },
   "file_extension": ".py",
   "mimetype": "text/x-python",
   "name": "python",
   "nbconvert_exporter": "python",
   "pygments_lexer": "ipython3",
   "version": "3.7.3"
  }
 },
 "nbformat": 4,
 "nbformat_minor": 2
}
