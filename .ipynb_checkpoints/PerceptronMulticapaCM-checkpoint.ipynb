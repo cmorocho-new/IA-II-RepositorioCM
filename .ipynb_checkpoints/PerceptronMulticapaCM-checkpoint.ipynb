{
 "cells": [
  {
   "cell_type": "markdown",
   "metadata": {},
   "source": [
    "\n",
    "# Redes Neuronales con Scikit-Learn: una introducción - Parte 1\n",
    "\n",
    "En este cuaderno se presenta una breve introducción de los principales aspectos para crear, entrenar y validar redes neuronales artificiales en Python con la librería [scikit-learn](http://scikit-learn.org/stable/index.html). A lo largo del cuaderno se hará especial énfasis en el **Perceptrón multicapa** como herramienta para realizar tareas de clasificación.\n",
    "\n",
    "Como primer punto, es importante verificar que tengamos todos las librerías instaladas. \n",
    "\n",
    "## Prerrequisitos:\n",
    "\n",
    "A fin de poder ejecutar las instrucciones de este cuaderno, debemos verificar que tengamos instaladas las siguientes librerías:\n",
    "\n",
    "* Python (versiones >=2.7 o >=3.3)\n",
    "* [Numpy >= 1.8.2](http://www.numpy.org/)\n",
    "* [SciPy >= 0.13.3](https://www.scipy.org/)\n",
    "\n",
    "## Instalación:\n",
    "La instalación de **scikit-learn** se puede realizar de manera sencilla a través del siguiente comando:\n",
    "\n",
    "    pip install -U scikit-learn\n",
    "    \n",
    "Donde la opción **-U** indica que si existe el paquete, deberá actualizarse a la última versión estable existente.\n",
    "\n",
    "De igual forma, si se desean mayores detalles, es factible consultar el siguiente [enlace](http://scikit-learn.org/stable/install.html).\n",
    "\n",
    "## Ejemplo básico 1: compuerta XOR\n",
    "Como se conoce, el perceptrón simple (de una sola neurona y una sola capa) no es capaz de resolver problemas que no sean separables linealmente.\n",
    "\n",
    "Por ello, en esta sección aprenderemos cómo resolver un el sencillo problema de la compuerta XOR (que no es separable linealmente). Comencemos!\n",
    "\n",
    "### Corpus\n",
    "Para entrenar la red, debemos tener claro en primer lugar, cuáles son las entradas y salidas que nuestra red neuronal deberá aprender. En la siguiente tabla se puede apreciar los patrones de entrada (donde cada patrón está conformado por dos entradas $x_{1}$ y $x_{2}$), y las correspondientes etiquetas o salidas ($\\delta$).\n",
    "\n",
    "\n",
    "| $x_{1}$| $x_{2}$| $\\delta$  |\n",
    "| ------------- |-------------| -----|\n",
    "| 0|0 |0|\n",
    "| 0|1 |1|\n",
    "| 1|0 |1|\n",
    "| 1|1 |0|\n",
    "\n",
    "A continuación visualizamos los patrones que se desea que aprenda nuestra red:\n",
    "\n"
   ]
  },
  {
   "cell_type": "code",
   "execution_count": 2,
   "metadata": {},
   "outputs": [
    {
     "data": {
      "image/png": "[encoded data removed]",
      "text/plain": [
       "<Figure size 432x288 with 1 Axes>"
      ]
     },
     "metadata": {
      "needs_background": "light"
     },
     "output_type": "display_data"
    }
   ],
   "source": [
    "# Importacion de las librerias\n",
    "import matplotlib.pyplot as pp\n",
    "import numpy as np\n",
    "\n",
    "# Creacion de los puntos\n",
    "X=np.array([[0, 0], [0, 1], [1, 0], [1, 1]])\n",
    "d=np.array([[0, 0], [0, 1], [0, 1], [0, 0]])\n",
    "\n",
    "# Dibujo de la grafica\n",
    "pp.scatter(X[:,0],X[:,1], color=['blue' if i[0]==1 else 'red' for i in d])\n",
    "pp.grid(True)\n",
    "pp.show()"
   ]
  },
  {
   "cell_type": "markdown",
   "metadata": {},
   "source": [
    "Como se puede apreciar, no es posible separar con una sola línea los puntos azules (que indican que la red debería devolver un valor de $1$ en esos casos) de los puntos rojos.\n",
    "\n",
    "Por ello, ahora vamos a crear una red multicapa que tendrá la siguiente estructura:\n",
    "\n",
    "* Número de entradas = 2\n",
    "* Total de capas = 2\n",
    "* Neuronas en la capa oculta = 4\n",
    "* Salidas = 1\n",
    "\n",
    "Si deseamos visualizar la **estructura** de nuestra red neuronal, podemos emplear el paquete [viznet](http://viznet.readthedocs.io/en/latest/tutorials.html). Es importante observar que en **THE ASIMOV INSTITUTE** existe una completa descripción gráfica de la estructura de los diferentes tipos de redes neuronales: [The Neural Network Zoo](http://www.asimovinstitute.org/neural-network-zoo/) [3]."
   ]
  },
  {
   "cell_type": "markdown",
   "metadata": {},
   "source": [
    "A continuación emplearemos **sckikit learn** para crear, entrenar y probar la red neuronal [MLPClassifier](http://scikit-learn.org/stable/modules/generated/sklearn.neural_network.MLPClassifier.html) que se especificó con anterioridad. Los parámetros que se usarán son los siguientes:\n",
    "\n",
    "* Algoritmo para la reducción del error en el entrenamiento: **lbfgs** optimizador basado en métodos cuasi-Newtonianos. Mayor información en este [link](https://en.wikipedia.org/wiki/Limited-memory_BFGS).\n",
    "* Función de activación de las neuronas: **logística** (_logistic_)\n",
    "* Máximo número de iteraciones (*max_iter*): 10000\n"
   ]
  },
  {
   "cell_type": "code",
   "execution_count": 11,
   "metadata": {},
   "outputs": [
    {
     "name": "stdout",
     "output_type": "stream",
     "text": [
      "Pesos W^(0): \n",
      ": [[ 1.53574915e-03  4.49565765e+00 -4.49615623e+00  9.11863364e-04]\n",
      " [ 1.12589122e-03 -4.49714342e+00  4.49684088e+00 -4.77485005e-04]]\n",
      "\n",
      "Pesos W^(1): \n",
      ": [[ 5.02119875e-04 -2.56538959e-04]\n",
      " [-5.26000011e+00  5.25846332e+00]\n",
      " [-5.26015670e+00  5.25815339e+00]\n",
      " [-1.85781254e-03  1.87354088e-03]]\n",
      "[[0 0]]\n",
      "\n",
      "Prueba con { 0|0 } =>  [0]\n",
      "[[0 1]]\n",
      "\n",
      "Prueba con { 0|1 } =>  [1]\n",
      "[[1 0]]\n",
      "\n",
      "Prueba con { 1|0 } =>  [1]\n",
      "[[1 1]]\n",
      "\n",
      "Prueba con { 1|1 } =>  [0]\n"
     ]
    }
   ],
   "source": [
    "# Importamos el Perceptron Multicapa para Clasificacion\n",
    "from sklearn.neural_network import MLPClassifier\n",
    "entradas = 2\n",
    "neuronas_capa_oculta = 4\n",
    "neuronas_capa_salida = 2\n",
    "\n",
    "# Creamos la red neuronal\n",
    "mlp=MLPClassifier(solver = 'lbfgs', activation='logistic', verbose=True, alpha=1e-4, tol=1e-15, max_iter=10000, \\\n",
    "                  hidden_layer_sizes=(neuronas_capa_oculta, neuronas_capa_salida))\n",
    "\n",
    "#print(mlp)\n",
    "# Realizamos el proceso de entrenamiento\n",
    "mlp.fit(x,d)\n",
    "\n",
    "# Mostramos los pesos entre la entrada y la capa oculta\n",
    "print('Pesos W^(0): \\n:',mlp.coefs_[0])\n",
    "\n",
    "# Mostramos los pesos entre la capa oculta y la capa de salida\n",
    "print('\\nPesos W^(1): \\n:',mlp.coefs_[1])\n",
    "\n",
    "# Probamos si la red devuelve valores apropiados de acuerdo a las entradas (test):\n",
    "for entrada in x:\n",
    "    print(entrada.reshape(1,-1))\n",
    "    print('\\nPrueba con {','|'.join([str(i) for i in entrada]),'} => ', mlp.predict(entrada.reshape(1,-1)))"
   ]
  },
  {
   "cell_type": "markdown",
   "metadata": {},
   "source": [
    "### Práctica ANN-0:\n",
    "\n",
    "Modifique el código anterior, a fin de usar [Hot Encoding](https://www.quora.com/What-is-one-hot-encoding-and-when-is-it-used-in-data-science) y contar con 2 salidas en lugar de 1."
   ]
  },
  {
   "cell_type": "code",
   "execution_count": null,
   "metadata": {},
   "outputs": [],
   "source": [
    "# Importamos el Perceptron Multicapa para Clasificacion\n",
    "from sklearn.neural_network import MLPClassifier\n",
    "\n",
    "# TODO:\n",
    "# Modificar las salidas deseadas para representarlas con 2 valores binarios\n",
    "\n",
    "\n",
    "# Modoficar los parametros de la Red Neuronal. Sustituir None por el valor correspondiente\n",
    "mlp=MLPClassifier(solver = 'lbfgs', activation='logistic', alpha=1e-4, tol=1e-15, max_iter=10000, \\\n",
    "                  hidden_layer_sizes=(neuronas_capa_oculta, None))\n",
    "\n",
    "print(mlp)\n",
    "# Realizamos el proceso de entrenamiento con la nueva representacion de la salida. \n",
    "# Sustituir None por el valor correspondiente:\n",
    "\n",
    "# TODO:\n",
    "\n",
    "mlp.fit(x,None)\n",
    "\n",
    "# Mostramos los pesos entre la entrada y la capa oculta\n",
    "print('Pesos W^(0): \\n:',mlp.coefs_[0])\n",
    "\n",
    "# Mostramos los pesos entre la capa oculta y la capa de salida\n",
    "print('\\nPesos W^(1): \\n:',mlp.coefs_[1])\n",
    "\n",
    "# Probamos si la red devuelve valores apropiados de acuerdo a las entradas (test):\n",
    "for entrada in x:\n",
    "    print('\\nPrueba con {','|'.join([str(i) for i in entrada]),'} => ',mlp.predict(entrada.reshape(1,-1)))"
   ]
  },
  {
   "cell_type": "markdown",
   "metadata": {},
   "source": [
    "### Práctica ANN-1:\n",
    "\n",
    "Genere 1000 puntos aleatorios con coordenadas $(x_{1}, x_{2})$. Con estos puntos, deberá realizar las siguientes tareas:\n",
    "\n",
    "* Seleccionar de forma aleatoria 80% de los puntos para entrenar la red y el restante 20% se empleará para probar la red.\n",
    "* Entrenar la red hasta lograr un error mínimo.\n",
    "* Probar la red y presentar la matriz de [confusión](http://scikit-learn.org/stable/modules/generated/sklearn.metrics.confusion_matrix.html).\n",
    "* Indicar el nivel de [precisión](https://en.wikipedia.org/wiki/Precision_and_recall) (muestras correctamente clasificadas frente al total de muestras):\n",
    "\n",
    "$precision=\\frac{muestras ~~correctamente ~~clasificadas}{total~~ de~~ muestras}$"
   ]
  },
  {
   "cell_type": "code",
   "execution_count": 3,
   "metadata": {},
   "outputs": [],
   "source": [
    "## importamos las librerias\n",
    "import copy\n",
    "import random"
   ]
  },
  {
   "cell_type": "code",
   "execution_count": 11,
   "metadata": {},
   "outputs": [
    {
     "data": {
      "image/png": "[encoded data removed]",
      "text/plain": [
       "<Figure size 432x288 with 1 Axes>"
      ]
     },
     "metadata": {
      "needs_background": "light"
     },
     "output_type": "display_data"
    },
    {
     "name": "stdout",
     "output_type": "stream",
     "text": [
      "250\n"
     ]
    }
   ],
   "source": [
    "## Agregamos una funcoin  -> x^(3)-3 x^(2)+2 x+1\n",
    "ecuacion = lambda x :  x**3 - 3*x**2 + 2*x + 1\n",
    "\n",
    "def dibujar_funcion(rango = [0.0, 2.5], aleatorios = 1000):\n",
    "    # Genera el rango\n",
    "    x = np.arange(rango[0], rango[1], 0.01)\n",
    "    y = ecuacion(x)\n",
    "    \n",
    "    # puntos aleatorios\n",
    "    random.shuffle(x)\n",
    "    puntos = [random.uniform(rango) for i in range(aleatorios)]\n",
    "    \n",
    "    index = 0\n",
    "    puntos_clases = [[],[]]\n",
    "    salidas_deseadas = []\n",
    "\n",
    "    for i in range(puntos):\n",
    "        if puntos[i]>=y[index]:\n",
    "            puntos_clase[0].append([x[i], yh[i]])\n",
    "            salidas_deseadas.append(1)\n",
    "        else:\n",
    "            puntos_clase[2].append([x[i], yh[i]])\n",
    "            salidas_deseadas.append(0)\n",
    "        # Verifica si ya lelgo al limite\n",
    "        if index < len(y):\n",
    "            index = 0\n",
    "        else:\n",
    "            index += 1\n",
    "            \n",
    "    salidas_deseadas = np.array(salidas_deseadas)\n",
    "    puntos_clase1 = np.array(puntos_clase1)\n",
    "    puntos_clase2 = np.array(puntos_clase2)\n",
    "    \n",
    "    data = np.vstack((puntos_clase1, puntos_clase2))\n",
    "    \n",
    "    pp.scatter(puntos_clase1[:,0], puntos_clase1[:,1], color = 'gold')\n",
    "    pp.scatter(puntos_clase2[:,0], puntos_clase2[:,1], color = 'blue')\n",
    "    pp.plot(x,y,lw = 2.0, color = 'red')\n",
    "    pp.grid(True)\n",
    "    pp.show()\n",
    "    \n",
    "    print(len(x))\n",
    "    return salidas_deseadas, data\n",
    "    \n",
    "salidas_deseadas, data = dibujar_funcion()"
   ]
  },
  {
   "cell_type": "markdown",
   "metadata": {},
   "source": [
    "## Referencias\n",
    "[1] Pedregosa, F., Varoquaux, G., Gramfort, A., Michel, V., Thirion, B., Grisel, O., ... & Vanderplas, J. (2011). Scikit-learn: Machine learning in Python. Journal of machine learning research, 12(Oct), 2825-2830.\n",
    "\n",
    "[2] Portilla, J. (2017). A Beginner’s Guide to Neural Networks in Python and SciKit Learn 0.18. Retrieved from https://www.springboard.com/blog/beginners-guide-neural-network-in-python-scikit-learn-0-18/.\n",
    "\n",
    "[3] The Asimov Institute. (2018). THE NEURAL NETWORK ZOO. Retrived from: http://www.asimovinstitute.org/neural-network-zoo/"
   ]
  }
 ],
 "metadata": {
  "kernelspec": {
   "display_name": "Python 3",
   "language": "python",
   "name": "python3"
  },
  "language_info": {
   "codemirror_mode": {
    "name": "ipython",
    "version": 3
   },
   "file_extension": ".py",
   "mimetype": "text/x-python",
   "name": "python",
   "nbconvert_exporter": "python",
   "pygments_lexer": "ipython3",
   "version": "3.7.3"
  }
 },
 "nbformat": 4,
 "nbformat_minor": 2
}
