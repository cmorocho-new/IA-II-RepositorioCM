{
 "cells": [
  {
   "cell_type": "code",
   "execution_count": 1,
   "metadata": {},
   "outputs": [],
   "source": [
    "# Importacion de las librerias\n",
    "import matplotlib.pyplot as pp\n",
    "import numpy as np"
   ]
  },
  {
   "cell_type": "code",
   "execution_count": 2,
   "metadata": {},
   "outputs": [],
   "source": [
    "# Inisializamos los valores\n",
    "W = np.array([0.13562732920820952, 0.034012593345510767])\n",
    "X = np.array([[4.91658905 ,7.11719927], \n",
    "              [-0.4456628 , -3.91110958], \n",
    "              [1.89546949, 0.67260136], \n",
    "              [5.30285766, 8.15745004]])\n",
    "d = np.array([0.0, 1.0, 1.0, 0.0])\n",
    "t = 0.3483733780248468\n",
    "a = 0.7"
   ]
  },
  {
   "cell_type": "code",
   "execution_count": 3,
   "metadata": {},
   "outputs": [],
   "source": [
    "funcion_e = lambda n: 1 if n >= 0 else 0\n",
    "funcion_t = lambda x: np.dot(W, x) + t"
   ]
  },
  {
   "cell_type": "code",
   "execution_count": 4,
   "metadata": {},
   "outputs": [
    {
     "data": {
      "image/png": "[encoded data removed]",
      "text/plain": [
       "<Figure size 432x288 with 1 Axes>"
      ]
     },
     "metadata": {
      "needs_background": "light"
     },
     "output_type": "display_data"
    }
   ],
   "source": [
    "# Dibujo de la grafica\n",
    "pp.scatter(X[:,0], X[:,1], color=['blue' if i==1 else 'red' for i in d])\n",
    "pp.grid(True)\n",
    "pp.show()"
   ]
  },
  {
   "cell_type": "code",
   "execution_count": 5,
   "metadata": {
    "scrolled": true
   },
   "outputs": [
    {
     "name": "stdout",
     "output_type": "stream",
     "text": [
      "CALCULO PUNTO: [0, [4.91658905 7.11719927]]\n",
      "n 1.257271624220151\n",
      "y 1\n",
      "e -1.0\n",
      "W1 [-3.30598501 -4.9480269 ]\n",
      "t1 -0.35162662197515315\n",
      "CALCULO PUNTO: [1, [-0.4456628  -3.91110958]]\n",
      "n 20.474003306155964\n",
      "y 1\n",
      "e 0.0\n",
      "CALCULO PUNTO: [2, [1.89546949 0.67260136]]\n",
      "n -9.946069954184752\n",
      "y 0\n",
      "e 1.0\n",
      "W2 [-1.97915636 -4.47720594]\n",
      "t2 0.3483733780248468\n",
      "CALCULO PUNTO: [3, [5.30285766 8.15745004]]\n",
      "n -46.66939490489589\n",
      "y 0\n",
      "e 0.0\n",
      "---------------------------\n",
      "CALCULO PUNTO: [0, [4.91658905 7.11719927]]\n",
      "n -41.24749199733249\n",
      "y 0\n",
      "e 0.0\n",
      "CALCULO PUNTO: [1, [-0.4456628  -3.91110958]]\n",
      "n 18.741252802164464\n",
      "y 1\n",
      "e 0.0\n",
      "CALCULO PUNTO: [2, [1.89546949 0.67260136]]\n",
      "n -6.414431930288456\n",
      "y 0\n",
      "e 1.0\n",
      "W3 [-0.65232772 -4.00638499]\n",
      "t3 1.0483733780248468\n",
      "CALCULO PUNTO: [3, [5.30285766 8.15745004]]\n",
      "n -35.092713078130686\n",
      "y 0\n",
      "e 0.0\n",
      "---------------------------\n",
      "CALCULO PUNTO: [0, [4.91658905 7.11719927]]\n",
      "n -30.67309428405722\n",
      "y 0\n",
      "e 0.0\n",
      "CALCULO PUNTO: [1, [-0.4456628  -3.91110958]]\n",
      "n 17.008502298172964\n",
      "y 1\n",
      "e 0.0\n",
      "CALCULO PUNTO: [2, [1.89546949 0.67260136]]\n",
      "n -2.882793906392159\n",
      "y 0\n",
      "e 1.0\n",
      "W4 [ 0.67450092 -3.53556404]\n",
      "t4 1.7483733780248467\n",
      "CALCULO PUNTO: [3, [5.30285766 8.15745004]]\n",
      "n -23.516031251365497\n",
      "y 0\n",
      "e 0.0\n",
      "---------------------------\n",
      "CALCULO PUNTO: [0, [4.91658905 7.11719927]]\n",
      "n -20.098696570781957\n",
      "y 0\n",
      "e 0.0\n",
      "CALCULO PUNTO: [1, [-0.4456628  -3.91110958]]\n",
      "n 15.275751794181458\n",
      "y 1\n",
      "e 0.0\n",
      "CALCULO PUNTO: [2, [1.89546949 0.67260136]]\n",
      "n 0.6488441175041371\n",
      "y 1\n",
      "e 0.0\n",
      "CALCULO PUNTO: [3, [5.30285766 8.15745004]]\n",
      "n -23.516031251365497\n",
      "y 0\n",
      "e 0.0\n",
      "---------------------------\n"
     ]
    }
   ],
   "source": [
    "# realizams el proceso\n",
    "iteracion = 0\n",
    "while True:\n",
    "    cambio = iteracion\n",
    "    for i, x in enumerate(X):\n",
    "        print(f\"CALCULO PUNTO: [{i}, {x}]\")\n",
    "        n = funcion_t(x)\n",
    "        print(\"n\", n)\n",
    "        y = funcion_e(n)\n",
    "        print(\"y\", y)\n",
    "        error = d[i] - y\n",
    "        print(\"e\", error)\n",
    "        if error != 0:\n",
    "            iteracion += 1\n",
    "            W = W + a * error * x\n",
    "            t = t + a * error\n",
    "            print(f\"W{iteracion}\", W)\n",
    "            print(f\"t{iteracion}\", t)\n",
    "    print(\"---------------------------\")\n",
    "    if iteracion == cambio:\n",
    "        break"
   ]
  },
  {
   "cell_type": "code",
   "execution_count": 4,
   "metadata": {},
   "outputs": [
    {
     "data": {
      "text/plain": [
       "array([3, 6])"
      ]
     },
     "execution_count": 4,
     "metadata": {},
     "output_type": "execute_result"
    }
   ],
   "source": [
    "W1 = np.array([2, 4])\n",
    "W2 = np.array([1, 2])\n",
    "W1 + W2"
   ]
  },
  {
   "cell_type": "code",
   "execution_count": null,
   "metadata": {},
   "outputs": [],
   "source": []
  }
 ],
 "metadata": {
  "kernelspec": {
   "display_name": "Python 3",
   "language": "python",
   "name": "python3"
  },
  "language_info": {
   "codemirror_mode": {
    "name": "ipython",
    "version": 3
   },
   "file_extension": ".py",
   "mimetype": "text/x-python",
   "name": "python",
   "nbconvert_exporter": "python",
   "pygments_lexer": "ipython3",
   "version": "3.7.3"
  }
 },
 "nbformat": 4,
 "nbformat_minor": 2
}
