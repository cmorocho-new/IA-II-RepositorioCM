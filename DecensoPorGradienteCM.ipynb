{
 "cells": [
  {
   "cell_type": "markdown",
   "metadata": {},
   "source": [
    "## DECENSO POR GRADIENTE\n",
    "\n",
    "#### AUTOR: CARLOS MOROCHO\n",
    "\n",
    "#### Boletín de prácticas 1:\n",
    "\n",
    "* Seleccionar una función matemática para realizar el proceso de minimización. Ejecutar al menos 3 pasos del método de descenso por gradiente.\n",
    "* Diseñar y desarrollar un cuaderno en Jupyter Notebook donde se realicen todos los pasos correspondientes al proceso de minimización de la función a través del método de descenso por gradiente.\n",
    "* El cuaderno deberá incluir los siguientes puntos:\n",
    "    * Gráfica de la función y los puntos que se obtienen a medida que se ejecutan los pasos de cálculo (hasta k=3).\n",
    "    * Aplicación de las funciones de derivación y evaluación de forma similar a la que se ha detallado en el presente cuaderno.\n",
    "    * Incluir un acápite sobre las funciones cóncavas y los puntos estacionarios (incluir gráficos).\n",
    "    * Emplear las funcionalidades que proveen los paquetes matplotlib y sympy."
   ]
  },
  {
   "attachments": {
    "Capture1.PNG": {
     "image/png": "[encoded data removed]"
    }
   },
   "cell_type": "markdown",
   "metadata": {},
   "source": [
    "la funcion que se selecciono para la resolucion de este primer punto es la siguiente\n",
    "![Capture1.PNG](attachment:Capture1.PNG)\n"
   ]
  },
  {
   "cell_type": "markdown",
   "metadata": {},
   "source": [
    "#### RESOLUCION A MANO"
   ]
  },
  {
   "cell_type": "code",
   "execution_count": 1,
   "metadata": {},
   "outputs": [],
   "source": [
    "import numpy as np"
   ]
  },
  {
   "cell_type": "code",
   "execution_count": 7,
   "metadata": {},
   "outputs": [
    {
     "data": {
      "text/plain": [
       "9.867648249902228"
      ]
     },
     "execution_count": 7,
     "metadata": {},
     "output_type": "execute_result"
    }
   ],
   "source": [
    "# Declaramos la funcion\n",
    "funcion_fx = lambda x: 2*x - np.sin(-5*x) \n",
    "fx_0= funcion_fx(5)\n",
    "fx_0"
   ]
  },
  {
   "cell_type": "code",
   "execution_count": null,
   "metadata": {},
   "outputs": [],
   "source": [
    "fx_0*(5*np.cos())2*x - np.sin(-5*x)"
   ]
  }
 ],
 "metadata": {
  "kernelspec": {
   "display_name": "Python 3",
   "language": "python",
   "name": "python3"
  },
  "language_info": {
   "codemirror_mode": {
    "name": "ipython",
    "version": 3
   },
   "file_extension": ".py",
   "mimetype": "text/x-python",
   "name": "python",
   "nbconvert_exporter": "python",
   "pygments_lexer": "ipython3",
   "version": "3.7.3"
  }
 },
 "nbformat": 4,
 "nbformat_minor": 2
}
