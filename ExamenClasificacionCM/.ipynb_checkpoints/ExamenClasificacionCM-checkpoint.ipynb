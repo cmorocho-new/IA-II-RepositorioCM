{
 "cells": [
  {
   "cell_type": "markdown",
   "metadata": {},
   "source": [
    "## EXAMEN DE CLASIFICACION \n",
    "\n",
    "#### AUTOR: CARLOS MOROCHO\n",
    "Desarrollar una red neuronal que realice un proceso de clasificación de tipos de sueldo que\n",
    "gana una persona de acuerdo al Censo"
   ]
  },
  {
   "cell_type": "code",
   "execution_count": 2,
   "metadata": {},
   "outputs": [],
   "source": [
    "# Importamos las librerias\n",
    "import pandas as pd\n",
    "import numpy as np\n",
    "import seaborn as sns\n",
    "import matplotlib.pyplot as pp"
   ]
  },
  {
   "cell_type": "markdown",
   "metadata": {},
   "source": [
    "### LECTURA DEL DATASET"
   ]
  },
  {
   "cell_type": "code",
   "execution_count": 2,
   "metadata": {},
   "outputs": [
    {
     "data": {
      "text/html": [
       "<div>\n",
       "<style scoped>\n",
       "    .dataframe tbody tr th:only-of-type {\n",
       "        vertical-align: middle;\n",
       "    }\n",
       "\n",
       "    .dataframe tbody tr th {\n",
       "        vertical-align: top;\n",
       "    }\n",
       "\n",
       "    .dataframe thead th {\n",
       "        text-align: right;\n",
       "    }\n",
       "</style>\n",
       "<table border=\"1\" class=\"dataframe\">\n",
       "  <thead>\n",
       "    <tr style=\"text-align: right;\">\n",
       "      <th></th>\n",
       "      <th>0</th>\n",
       "      <th>1</th>\n",
       "      <th>2</th>\n",
       "      <th>3</th>\n",
       "      <th>4</th>\n",
       "      <th>5</th>\n",
       "      <th>6</th>\n",
       "      <th>7</th>\n",
       "      <th>8</th>\n",
       "      <th>9</th>\n",
       "      <th>10</th>\n",
       "      <th>11</th>\n",
       "      <th>12</th>\n",
       "      <th>13</th>\n",
       "      <th>14</th>\n",
       "    </tr>\n",
       "  </thead>\n",
       "  <tbody>\n",
       "    <tr>\n",
       "      <th>0</th>\n",
       "      <td>39</td>\n",
       "      <td>State-gov</td>\n",
       "      <td>77516</td>\n",
       "      <td>Bachelors</td>\n",
       "      <td>13</td>\n",
       "      <td>Never-married</td>\n",
       "      <td>Adm-clerical</td>\n",
       "      <td>Not-in-family</td>\n",
       "      <td>White</td>\n",
       "      <td>Male</td>\n",
       "      <td>2174</td>\n",
       "      <td>0</td>\n",
       "      <td>40</td>\n",
       "      <td>United-States</td>\n",
       "      <td>&lt;=50K</td>\n",
       "    </tr>\n",
       "    <tr>\n",
       "      <th>1</th>\n",
       "      <td>50</td>\n",
       "      <td>Self-emp-not-inc</td>\n",
       "      <td>83311</td>\n",
       "      <td>Bachelors</td>\n",
       "      <td>13</td>\n",
       "      <td>Married-civ-spouse</td>\n",
       "      <td>Exec-managerial</td>\n",
       "      <td>Husband</td>\n",
       "      <td>White</td>\n",
       "      <td>Male</td>\n",
       "      <td>0</td>\n",
       "      <td>0</td>\n",
       "      <td>13</td>\n",
       "      <td>United-States</td>\n",
       "      <td>&lt;=50K</td>\n",
       "    </tr>\n",
       "    <tr>\n",
       "      <th>2</th>\n",
       "      <td>38</td>\n",
       "      <td>Private</td>\n",
       "      <td>215646</td>\n",
       "      <td>HS-grad</td>\n",
       "      <td>9</td>\n",
       "      <td>Divorced</td>\n",
       "      <td>Handlers-cleaners</td>\n",
       "      <td>Not-in-family</td>\n",
       "      <td>White</td>\n",
       "      <td>Male</td>\n",
       "      <td>0</td>\n",
       "      <td>0</td>\n",
       "      <td>40</td>\n",
       "      <td>United-States</td>\n",
       "      <td>&lt;=50K</td>\n",
       "    </tr>\n",
       "    <tr>\n",
       "      <th>3</th>\n",
       "      <td>53</td>\n",
       "      <td>Private</td>\n",
       "      <td>234721</td>\n",
       "      <td>11th</td>\n",
       "      <td>7</td>\n",
       "      <td>Married-civ-spouse</td>\n",
       "      <td>Handlers-cleaners</td>\n",
       "      <td>Husband</td>\n",
       "      <td>Black</td>\n",
       "      <td>Male</td>\n",
       "      <td>0</td>\n",
       "      <td>0</td>\n",
       "      <td>40</td>\n",
       "      <td>United-States</td>\n",
       "      <td>&lt;=50K</td>\n",
       "    </tr>\n",
       "    <tr>\n",
       "      <th>4</th>\n",
       "      <td>28</td>\n",
       "      <td>Private</td>\n",
       "      <td>338409</td>\n",
       "      <td>Bachelors</td>\n",
       "      <td>13</td>\n",
       "      <td>Married-civ-spouse</td>\n",
       "      <td>Prof-specialty</td>\n",
       "      <td>Wife</td>\n",
       "      <td>Black</td>\n",
       "      <td>Female</td>\n",
       "      <td>0</td>\n",
       "      <td>0</td>\n",
       "      <td>40</td>\n",
       "      <td>Cuba</td>\n",
       "      <td>&lt;=50K</td>\n",
       "    </tr>\n",
       "  </tbody>\n",
       "</table>\n",
       "</div>"
      ],
      "text/plain": [
       "   0                  1       2           3   4                    5   \\\n",
       "0  39          State-gov   77516   Bachelors  13        Never-married   \n",
       "1  50   Self-emp-not-inc   83311   Bachelors  13   Married-civ-spouse   \n",
       "2  38            Private  215646     HS-grad   9             Divorced   \n",
       "3  53            Private  234721        11th   7   Married-civ-spouse   \n",
       "4  28            Private  338409   Bachelors  13   Married-civ-spouse   \n",
       "\n",
       "                   6               7       8        9     10  11  12  \\\n",
       "0        Adm-clerical   Not-in-family   White     Male  2174   0  40   \n",
       "1     Exec-managerial         Husband   White     Male     0   0  13   \n",
       "2   Handlers-cleaners   Not-in-family   White     Male     0   0  40   \n",
       "3   Handlers-cleaners         Husband   Black     Male     0   0  40   \n",
       "4      Prof-specialty            Wife   Black   Female     0   0  40   \n",
       "\n",
       "               13      14  \n",
       "0   United-States   <=50K  \n",
       "1   United-States   <=50K  \n",
       "2   United-States   <=50K  \n",
       "3   United-States   <=50K  \n",
       "4            Cuba   <=50K  "
      ]
     },
     "execution_count": 2,
     "metadata": {},
     "output_type": "execute_result"
    }
   ],
   "source": [
    "dataset = pd.read_csv('datos-censo.data', header=None)\n",
    "dataset.head()"
   ]
  },
  {
   "cell_type": "code",
   "execution_count": 67,
   "metadata": {},
   "outputs": [],
   "source": [
    "# Detallamos la columnas\n",
    "COLUMS_NUMERICAS = ['age', 'fnlwgt', 'education-num', 'capital-gain', 'capital-loss', 'hours-per-week']\n",
    "COLUMS_CATEGORICAS = ['workclass', 'education', 'marital-status', 'occupation', 'relationship', 'race', 'sex', \n",
    "                      'native-country', \"salario\"]\n",
    "# Obtiene los datos numericos\n",
    "dataset_num = dataset.iloc[:,[0, 2, 4, 10, 11, 12]]\n",
    "dataset_num.columns = COLUMS_NUMERICAS\n",
    "# Obtiene los datos categoricos\n",
    "dataset_text = dataset.iloc[:,[1, 3, 5, 6, 7, 8, 9, 13, 14]]\n",
    "dataset_text.columns = COLUMS_CATEGORICAS"
   ]
  },
  {
   "cell_type": "code",
   "execution_count": 83,
   "metadata": {},
   "outputs": [
    {
     "data": {
      "text/html": [
       "<div>\n",
       "<style scoped>\n",
       "    .dataframe tbody tr th:only-of-type {\n",
       "        vertical-align: middle;\n",
       "    }\n",
       "\n",
       "    .dataframe tbody tr th {\n",
       "        vertical-align: top;\n",
       "    }\n",
       "\n",
       "    .dataframe thead th {\n",
       "        text-align: right;\n",
       "    }\n",
       "</style>\n",
       "<table border=\"1\" class=\"dataframe\">\n",
       "  <thead>\n",
       "    <tr style=\"text-align: right;\">\n",
       "      <th></th>\n",
       "      <th>age</th>\n",
       "      <th>fnlwgt</th>\n",
       "      <th>education-num</th>\n",
       "      <th>capital-gain</th>\n",
       "      <th>capital-loss</th>\n",
       "      <th>hours-per-week</th>\n",
       "    </tr>\n",
       "  </thead>\n",
       "  <tbody>\n",
       "    <tr>\n",
       "      <th>0</th>\n",
       "      <td>39</td>\n",
       "      <td>77516</td>\n",
       "      <td>13</td>\n",
       "      <td>2174</td>\n",
       "      <td>0</td>\n",
       "      <td>40</td>\n",
       "    </tr>\n",
       "    <tr>\n",
       "      <th>1</th>\n",
       "      <td>50</td>\n",
       "      <td>83311</td>\n",
       "      <td>13</td>\n",
       "      <td>0</td>\n",
       "      <td>0</td>\n",
       "      <td>13</td>\n",
       "    </tr>\n",
       "    <tr>\n",
       "      <th>2</th>\n",
       "      <td>38</td>\n",
       "      <td>215646</td>\n",
       "      <td>9</td>\n",
       "      <td>0</td>\n",
       "      <td>0</td>\n",
       "      <td>40</td>\n",
       "    </tr>\n",
       "    <tr>\n",
       "      <th>3</th>\n",
       "      <td>53</td>\n",
       "      <td>234721</td>\n",
       "      <td>7</td>\n",
       "      <td>0</td>\n",
       "      <td>0</td>\n",
       "      <td>40</td>\n",
       "    </tr>\n",
       "    <tr>\n",
       "      <th>4</th>\n",
       "      <td>28</td>\n",
       "      <td>338409</td>\n",
       "      <td>13</td>\n",
       "      <td>0</td>\n",
       "      <td>0</td>\n",
       "      <td>40</td>\n",
       "    </tr>\n",
       "  </tbody>\n",
       "</table>\n",
       "</div>"
      ],
      "text/plain": [
       "   age  fnlwgt  education-num  capital-gain  capital-loss  hours-per-week\n",
       "0   39   77516             13          2174             0              40\n",
       "1   50   83311             13             0             0              13\n",
       "2   38  215646              9             0             0              40\n",
       "3   53  234721              7             0             0              40\n",
       "4   28  338409             13             0             0              40"
      ]
     },
     "execution_count": 83,
     "metadata": {},
     "output_type": "execute_result"
    }
   ],
   "source": [
    "dataset_num.head()"
   ]
  },
  {
   "cell_type": "code",
   "execution_count": 5,
   "metadata": {},
   "outputs": [
    {
     "data": {
      "text/html": [
       "<div>\n",
       "<style scoped>\n",
       "    .dataframe tbody tr th:only-of-type {\n",
       "        vertical-align: middle;\n",
       "    }\n",
       "\n",
       "    .dataframe tbody tr th {\n",
       "        vertical-align: top;\n",
       "    }\n",
       "\n",
       "    .dataframe thead th {\n",
       "        text-align: right;\n",
       "    }\n",
       "</style>\n",
       "<table border=\"1\" class=\"dataframe\">\n",
       "  <thead>\n",
       "    <tr style=\"text-align: right;\">\n",
       "      <th></th>\n",
       "      <th>workclass</th>\n",
       "      <th>education</th>\n",
       "      <th>marital-status</th>\n",
       "      <th>occupation</th>\n",
       "      <th>relationship</th>\n",
       "      <th>race</th>\n",
       "      <th>sex</th>\n",
       "      <th>native-country</th>\n",
       "      <th>salario</th>\n",
       "    </tr>\n",
       "  </thead>\n",
       "  <tbody>\n",
       "    <tr>\n",
       "      <th>0</th>\n",
       "      <td>State-gov</td>\n",
       "      <td>Bachelors</td>\n",
       "      <td>Never-married</td>\n",
       "      <td>Adm-clerical</td>\n",
       "      <td>Not-in-family</td>\n",
       "      <td>White</td>\n",
       "      <td>Male</td>\n",
       "      <td>United-States</td>\n",
       "      <td>&lt;=50K</td>\n",
       "    </tr>\n",
       "    <tr>\n",
       "      <th>1</th>\n",
       "      <td>Self-emp-not-inc</td>\n",
       "      <td>Bachelors</td>\n",
       "      <td>Married-civ-spouse</td>\n",
       "      <td>Exec-managerial</td>\n",
       "      <td>Husband</td>\n",
       "      <td>White</td>\n",
       "      <td>Male</td>\n",
       "      <td>United-States</td>\n",
       "      <td>&lt;=50K</td>\n",
       "    </tr>\n",
       "    <tr>\n",
       "      <th>2</th>\n",
       "      <td>Private</td>\n",
       "      <td>HS-grad</td>\n",
       "      <td>Divorced</td>\n",
       "      <td>Handlers-cleaners</td>\n",
       "      <td>Not-in-family</td>\n",
       "      <td>White</td>\n",
       "      <td>Male</td>\n",
       "      <td>United-States</td>\n",
       "      <td>&lt;=50K</td>\n",
       "    </tr>\n",
       "    <tr>\n",
       "      <th>3</th>\n",
       "      <td>Private</td>\n",
       "      <td>11th</td>\n",
       "      <td>Married-civ-spouse</td>\n",
       "      <td>Handlers-cleaners</td>\n",
       "      <td>Husband</td>\n",
       "      <td>Black</td>\n",
       "      <td>Male</td>\n",
       "      <td>United-States</td>\n",
       "      <td>&lt;=50K</td>\n",
       "    </tr>\n",
       "    <tr>\n",
       "      <th>4</th>\n",
       "      <td>Private</td>\n",
       "      <td>Bachelors</td>\n",
       "      <td>Married-civ-spouse</td>\n",
       "      <td>Prof-specialty</td>\n",
       "      <td>Wife</td>\n",
       "      <td>Black</td>\n",
       "      <td>Female</td>\n",
       "      <td>Cuba</td>\n",
       "      <td>&lt;=50K</td>\n",
       "    </tr>\n",
       "  </tbody>\n",
       "</table>\n",
       "</div>"
      ],
      "text/plain": [
       "           workclass   education       marital-status          occupation  \\\n",
       "0          State-gov   Bachelors        Never-married        Adm-clerical   \n",
       "1   Self-emp-not-inc   Bachelors   Married-civ-spouse     Exec-managerial   \n",
       "2            Private     HS-grad             Divorced   Handlers-cleaners   \n",
       "3            Private        11th   Married-civ-spouse   Handlers-cleaners   \n",
       "4            Private   Bachelors   Married-civ-spouse      Prof-specialty   \n",
       "\n",
       "     relationship    race      sex  native-country salario  \n",
       "0   Not-in-family   White     Male   United-States   <=50K  \n",
       "1         Husband   White     Male   United-States   <=50K  \n",
       "2   Not-in-family   White     Male   United-States   <=50K  \n",
       "3         Husband   Black     Male   United-States   <=50K  \n",
       "4            Wife   Black   Female            Cuba   <=50K  "
      ]
     },
     "execution_count": 5,
     "metadata": {},
     "output_type": "execute_result"
    }
   ],
   "source": [
    "dataset_text.head()"
   ]
  },
  {
   "cell_type": "markdown",
   "metadata": {},
   "source": [
    "### TRANSFORMAMOS LOS DATOS"
   ]
  },
  {
   "cell_type": "code",
   "execution_count": 6,
   "metadata": {},
   "outputs": [],
   "source": [
    "from sklearn.compose import make_column_transformer\n",
    "from sklearn.preprocessing import OneHotEncoder, OrdinalEncoder"
   ]
  },
  {
   "cell_type": "markdown",
   "metadata": {},
   "source": [
    "En el caso de las variables numericas solo remplazamos el valor ? por 0"
   ]
  },
  {
   "cell_type": "code",
   "execution_count": 134,
   "metadata": {},
   "outputs": [
    {
     "name": "stdout",
     "output_type": "stream",
     "text": [
      "\n"
     ]
    }
   ],
   "source": [
    "# Remplazamos los valores ? por 0\n",
    "dataset_num.replace(to_replace =\" ?\", value =\"0\") \n",
    "print()"
   ]
  },
  {
   "cell_type": "markdown",
   "metadata": {},
   "source": [
    "En el caso de las variables caegoricas realizamos la transformacion de los datos alfanuemricos a valores categoricos numericos, por lo que el valor ? esta  incluido como una catergoria mas en los atributos"
   ]
  },
  {
   "cell_type": "code",
   "execution_count": 7,
   "metadata": {},
   "outputs": [
    {
     "data": {
      "text/html": [
       "<div>\n",
       "<style scoped>\n",
       "    .dataframe tbody tr th:only-of-type {\n",
       "        vertical-align: middle;\n",
       "    }\n",
       "\n",
       "    .dataframe tbody tr th {\n",
       "        vertical-align: top;\n",
       "    }\n",
       "\n",
       "    .dataframe thead th {\n",
       "        text-align: right;\n",
       "    }\n",
       "</style>\n",
       "<table border=\"1\" class=\"dataframe\">\n",
       "  <thead>\n",
       "    <tr style=\"text-align: right;\">\n",
       "      <th></th>\n",
       "      <th>workclass</th>\n",
       "      <th>education</th>\n",
       "      <th>marital-status</th>\n",
       "      <th>occupation</th>\n",
       "      <th>relationship</th>\n",
       "      <th>race</th>\n",
       "      <th>sex</th>\n",
       "      <th>native-country</th>\n",
       "      <th>salario</th>\n",
       "    </tr>\n",
       "  </thead>\n",
       "  <tbody>\n",
       "    <tr>\n",
       "      <th>0</th>\n",
       "      <td>7.0</td>\n",
       "      <td>9.0</td>\n",
       "      <td>4.0</td>\n",
       "      <td>1.0</td>\n",
       "      <td>1.0</td>\n",
       "      <td>4.0</td>\n",
       "      <td>1.0</td>\n",
       "      <td>39.0</td>\n",
       "      <td>0.0</td>\n",
       "    </tr>\n",
       "    <tr>\n",
       "      <th>1</th>\n",
       "      <td>6.0</td>\n",
       "      <td>9.0</td>\n",
       "      <td>2.0</td>\n",
       "      <td>4.0</td>\n",
       "      <td>0.0</td>\n",
       "      <td>4.0</td>\n",
       "      <td>1.0</td>\n",
       "      <td>39.0</td>\n",
       "      <td>0.0</td>\n",
       "    </tr>\n",
       "    <tr>\n",
       "      <th>2</th>\n",
       "      <td>4.0</td>\n",
       "      <td>11.0</td>\n",
       "      <td>0.0</td>\n",
       "      <td>6.0</td>\n",
       "      <td>1.0</td>\n",
       "      <td>4.0</td>\n",
       "      <td>1.0</td>\n",
       "      <td>39.0</td>\n",
       "      <td>0.0</td>\n",
       "    </tr>\n",
       "    <tr>\n",
       "      <th>3</th>\n",
       "      <td>4.0</td>\n",
       "      <td>1.0</td>\n",
       "      <td>2.0</td>\n",
       "      <td>6.0</td>\n",
       "      <td>0.0</td>\n",
       "      <td>2.0</td>\n",
       "      <td>1.0</td>\n",
       "      <td>39.0</td>\n",
       "      <td>0.0</td>\n",
       "    </tr>\n",
       "    <tr>\n",
       "      <th>4</th>\n",
       "      <td>4.0</td>\n",
       "      <td>9.0</td>\n",
       "      <td>2.0</td>\n",
       "      <td>10.0</td>\n",
       "      <td>5.0</td>\n",
       "      <td>2.0</td>\n",
       "      <td>0.0</td>\n",
       "      <td>5.0</td>\n",
       "      <td>0.0</td>\n",
       "    </tr>\n",
       "  </tbody>\n",
       "</table>\n",
       "</div>"
      ],
      "text/plain": [
       "   workclass  education  marital-status  occupation  relationship  race  sex  \\\n",
       "0        7.0        9.0             4.0         1.0           1.0   4.0  1.0   \n",
       "1        6.0        9.0             2.0         4.0           0.0   4.0  1.0   \n",
       "2        4.0       11.0             0.0         6.0           1.0   4.0  1.0   \n",
       "3        4.0        1.0             2.0         6.0           0.0   2.0  1.0   \n",
       "4        4.0        9.0             2.0        10.0           5.0   2.0  0.0   \n",
       "\n",
       "   native-country  salario  \n",
       "0            39.0      0.0  \n",
       "1            39.0      0.0  \n",
       "2            39.0      0.0  \n",
       "3            39.0      0.0  \n",
       "4             5.0      0.0  "
      ]
     },
     "execution_count": 7,
     "metadata": {},
     "output_type": "execute_result"
    }
   ],
   "source": [
    "# realizamos la transformacion de las categoicas\n",
    "preprocesador = make_column_transformer((OrdinalEncoder(), COLUMS_CATEGORICAS), remainder='passthrough')\n",
    "data_transformada = preprocesador.fit_transform(dataset_text)\n",
    "dataset_text = pd.DataFrame(data_transformada, columns=COLUMS_CATEGORICAS)\n",
    "dataset_text.head()"
   ]
  },
  {
   "cell_type": "markdown",
   "metadata": {},
   "source": [
    "### NORMLIZAMOS LOS DATOS"
   ]
  },
  {
   "cell_type": "code",
   "execution_count": 8,
   "metadata": {},
   "outputs": [
    {
     "data": {
      "text/html": [
       "<div>\n",
       "<style scoped>\n",
       "    .dataframe tbody tr th:only-of-type {\n",
       "        vertical-align: middle;\n",
       "    }\n",
       "\n",
       "    .dataframe tbody tr th {\n",
       "        vertical-align: top;\n",
       "    }\n",
       "\n",
       "    .dataframe thead th {\n",
       "        text-align: right;\n",
       "    }\n",
       "</style>\n",
       "<table border=\"1\" class=\"dataframe\">\n",
       "  <thead>\n",
       "    <tr style=\"text-align: right;\">\n",
       "      <th></th>\n",
       "      <th>age</th>\n",
       "      <th>fnlwgt</th>\n",
       "      <th>education-num</th>\n",
       "      <th>capital-gain</th>\n",
       "      <th>capital-loss</th>\n",
       "      <th>hours-per-week</th>\n",
       "      <th>workclass</th>\n",
       "      <th>education</th>\n",
       "      <th>marital-status</th>\n",
       "      <th>occupation</th>\n",
       "      <th>relationship</th>\n",
       "      <th>race</th>\n",
       "      <th>sex</th>\n",
       "      <th>native-country</th>\n",
       "      <th>salario</th>\n",
       "    </tr>\n",
       "  </thead>\n",
       "  <tbody>\n",
       "    <tr>\n",
       "      <th>0</th>\n",
       "      <td>39</td>\n",
       "      <td>77516</td>\n",
       "      <td>13</td>\n",
       "      <td>2174</td>\n",
       "      <td>0</td>\n",
       "      <td>40</td>\n",
       "      <td>7.0</td>\n",
       "      <td>9.0</td>\n",
       "      <td>4.0</td>\n",
       "      <td>1.0</td>\n",
       "      <td>1.0</td>\n",
       "      <td>4.0</td>\n",
       "      <td>1.0</td>\n",
       "      <td>39.0</td>\n",
       "      <td>0.0</td>\n",
       "    </tr>\n",
       "    <tr>\n",
       "      <th>1</th>\n",
       "      <td>50</td>\n",
       "      <td>83311</td>\n",
       "      <td>13</td>\n",
       "      <td>0</td>\n",
       "      <td>0</td>\n",
       "      <td>13</td>\n",
       "      <td>6.0</td>\n",
       "      <td>9.0</td>\n",
       "      <td>2.0</td>\n",
       "      <td>4.0</td>\n",
       "      <td>0.0</td>\n",
       "      <td>4.0</td>\n",
       "      <td>1.0</td>\n",
       "      <td>39.0</td>\n",
       "      <td>0.0</td>\n",
       "    </tr>\n",
       "    <tr>\n",
       "      <th>2</th>\n",
       "      <td>38</td>\n",
       "      <td>215646</td>\n",
       "      <td>9</td>\n",
       "      <td>0</td>\n",
       "      <td>0</td>\n",
       "      <td>40</td>\n",
       "      <td>4.0</td>\n",
       "      <td>11.0</td>\n",
       "      <td>0.0</td>\n",
       "      <td>6.0</td>\n",
       "      <td>1.0</td>\n",
       "      <td>4.0</td>\n",
       "      <td>1.0</td>\n",
       "      <td>39.0</td>\n",
       "      <td>0.0</td>\n",
       "    </tr>\n",
       "    <tr>\n",
       "      <th>3</th>\n",
       "      <td>53</td>\n",
       "      <td>234721</td>\n",
       "      <td>7</td>\n",
       "      <td>0</td>\n",
       "      <td>0</td>\n",
       "      <td>40</td>\n",
       "      <td>4.0</td>\n",
       "      <td>1.0</td>\n",
       "      <td>2.0</td>\n",
       "      <td>6.0</td>\n",
       "      <td>0.0</td>\n",
       "      <td>2.0</td>\n",
       "      <td>1.0</td>\n",
       "      <td>39.0</td>\n",
       "      <td>0.0</td>\n",
       "    </tr>\n",
       "    <tr>\n",
       "      <th>4</th>\n",
       "      <td>28</td>\n",
       "      <td>338409</td>\n",
       "      <td>13</td>\n",
       "      <td>0</td>\n",
       "      <td>0</td>\n",
       "      <td>40</td>\n",
       "      <td>4.0</td>\n",
       "      <td>9.0</td>\n",
       "      <td>2.0</td>\n",
       "      <td>10.0</td>\n",
       "      <td>5.0</td>\n",
       "      <td>2.0</td>\n",
       "      <td>0.0</td>\n",
       "      <td>5.0</td>\n",
       "      <td>0.0</td>\n",
       "    </tr>\n",
       "  </tbody>\n",
       "</table>\n",
       "</div>"
      ],
      "text/plain": [
       "   age  fnlwgt  education-num  capital-gain  capital-loss  hours-per-week  \\\n",
       "0   39   77516             13          2174             0              40   \n",
       "1   50   83311             13             0             0              13   \n",
       "2   38  215646              9             0             0              40   \n",
       "3   53  234721              7             0             0              40   \n",
       "4   28  338409             13             0             0              40   \n",
       "\n",
       "   workclass  education  marital-status  occupation  relationship  race  sex  \\\n",
       "0        7.0        9.0             4.0         1.0           1.0   4.0  1.0   \n",
       "1        6.0        9.0             2.0         4.0           0.0   4.0  1.0   \n",
       "2        4.0       11.0             0.0         6.0           1.0   4.0  1.0   \n",
       "3        4.0        1.0             2.0         6.0           0.0   2.0  1.0   \n",
       "4        4.0        9.0             2.0        10.0           5.0   2.0  0.0   \n",
       "\n",
       "   native-country  salario  \n",
       "0            39.0      0.0  \n",
       "1            39.0      0.0  \n",
       "2            39.0      0.0  \n",
       "3            39.0      0.0  \n",
       "4             5.0      0.0  "
      ]
     },
     "execution_count": 8,
     "metadata": {},
     "output_type": "execute_result"
    }
   ],
   "source": [
    "# concatenamos los dos dataset\n",
    "dataset_result = pd.concat([dataset_num, dataset_text], axis=1)\n",
    "dataset_result.head()"
   ]
  },
  {
   "cell_type": "code",
   "execution_count": 16,
   "metadata": {
    "scrolled": true
   },
   "outputs": [
    {
     "data": {
      "text/plain": [
       "<matplotlib.axes._subplots.AxesSubplot at 0x25672ebdfd0>"
      ]
     },
     "execution_count": 16,
     "metadata": {},
     "output_type": "execute_result"
    },
    {
     "data": {
      "image/png": "[encoded data removed]",
      "text/plain": [
       "<Figure size 432x288 with 2 Axes>"
      ]
     },
     "metadata": {
      "needs_background": "light"
     },
     "output_type": "display_data"
    }
   ],
   "source": [
    "# Verificamos los datos correlacionados\n",
    "correlacion = dataset_result.corr()\n",
    "sns.heatmap(correlacion, xticklabels = correlacion.columns.values, yticklabels = correlacion.columns.values)"
   ]
  },
  {
   "cell_type": "code",
   "execution_count": 17,
   "metadata": {},
   "outputs": [],
   "source": [
    "# Importamos la clase de normalizacion minMax scaler\n",
    "from sklearn.preprocessing import MinMaxScaler"
   ]
  },
  {
   "cell_type": "code",
   "execution_count": 18,
   "metadata": {},
   "outputs": [
    {
     "name": "stderr",
     "output_type": "stream",
     "text": [
      "C:\\Users\\Carlos\\Anaconda3\\lib\\site-packages\\sklearn\\preprocessing\\data.py:334: DataConversionWarning: Data with input dtype int64, float64 were all converted to float64 by MinMaxScaler.\n",
      "  return self.partial_fit(X, y)\n"
     ]
    },
    {
     "data": {
      "text/html": [
       "<div>\n",
       "<style scoped>\n",
       "    .dataframe tbody tr th:only-of-type {\n",
       "        vertical-align: middle;\n",
       "    }\n",
       "\n",
       "    .dataframe tbody tr th {\n",
       "        vertical-align: top;\n",
       "    }\n",
       "\n",
       "    .dataframe thead th {\n",
       "        text-align: right;\n",
       "    }\n",
       "</style>\n",
       "<table border=\"1\" class=\"dataframe\">\n",
       "  <thead>\n",
       "    <tr style=\"text-align: right;\">\n",
       "      <th></th>\n",
       "      <th>0</th>\n",
       "      <th>1</th>\n",
       "      <th>2</th>\n",
       "      <th>3</th>\n",
       "      <th>4</th>\n",
       "      <th>5</th>\n",
       "      <th>6</th>\n",
       "      <th>7</th>\n",
       "      <th>8</th>\n",
       "      <th>9</th>\n",
       "      <th>10</th>\n",
       "      <th>11</th>\n",
       "      <th>12</th>\n",
       "      <th>13</th>\n",
       "    </tr>\n",
       "  </thead>\n",
       "  <tbody>\n",
       "    <tr>\n",
       "      <th>0</th>\n",
       "      <td>-0.397260</td>\n",
       "      <td>-0.911396</td>\n",
       "      <td>0.600000</td>\n",
       "      <td>-0.95652</td>\n",
       "      <td>-1.0</td>\n",
       "      <td>-0.204082</td>\n",
       "      <td>0.75</td>\n",
       "      <td>0.200000</td>\n",
       "      <td>0.333333</td>\n",
       "      <td>-0.857143</td>\n",
       "      <td>-0.6</td>\n",
       "      <td>1.0</td>\n",
       "      <td>1.0</td>\n",
       "      <td>0.902439</td>\n",
       "    </tr>\n",
       "    <tr>\n",
       "      <th>1</th>\n",
       "      <td>-0.095890</td>\n",
       "      <td>-0.903525</td>\n",
       "      <td>0.600000</td>\n",
       "      <td>-1.00000</td>\n",
       "      <td>-1.0</td>\n",
       "      <td>-0.755102</td>\n",
       "      <td>0.50</td>\n",
       "      <td>0.200000</td>\n",
       "      <td>-0.333333</td>\n",
       "      <td>-0.428571</td>\n",
       "      <td>-1.0</td>\n",
       "      <td>1.0</td>\n",
       "      <td>1.0</td>\n",
       "      <td>0.902439</td>\n",
       "    </tr>\n",
       "    <tr>\n",
       "      <th>2</th>\n",
       "      <td>-0.424658</td>\n",
       "      <td>-0.723773</td>\n",
       "      <td>0.066667</td>\n",
       "      <td>-1.00000</td>\n",
       "      <td>-1.0</td>\n",
       "      <td>-0.204082</td>\n",
       "      <td>0.00</td>\n",
       "      <td>0.466667</td>\n",
       "      <td>-1.000000</td>\n",
       "      <td>-0.142857</td>\n",
       "      <td>-0.6</td>\n",
       "      <td>1.0</td>\n",
       "      <td>1.0</td>\n",
       "      <td>0.902439</td>\n",
       "    </tr>\n",
       "    <tr>\n",
       "      <th>3</th>\n",
       "      <td>-0.013699</td>\n",
       "      <td>-0.697863</td>\n",
       "      <td>-0.200000</td>\n",
       "      <td>-1.00000</td>\n",
       "      <td>-1.0</td>\n",
       "      <td>-0.204082</td>\n",
       "      <td>0.00</td>\n",
       "      <td>-0.866667</td>\n",
       "      <td>-0.333333</td>\n",
       "      <td>-0.142857</td>\n",
       "      <td>-1.0</td>\n",
       "      <td>0.0</td>\n",
       "      <td>1.0</td>\n",
       "      <td>0.902439</td>\n",
       "    </tr>\n",
       "    <tr>\n",
       "      <th>4</th>\n",
       "      <td>-0.698630</td>\n",
       "      <td>-0.557023</td>\n",
       "      <td>0.600000</td>\n",
       "      <td>-1.00000</td>\n",
       "      <td>-1.0</td>\n",
       "      <td>-0.204082</td>\n",
       "      <td>0.00</td>\n",
       "      <td>0.200000</td>\n",
       "      <td>-0.333333</td>\n",
       "      <td>0.428571</td>\n",
       "      <td>1.0</td>\n",
       "      <td>0.0</td>\n",
       "      <td>-1.0</td>\n",
       "      <td>-0.756098</td>\n",
       "    </tr>\n",
       "  </tbody>\n",
       "</table>\n",
       "</div>"
      ],
      "text/plain": [
       "         0         1         2        3    4         5     6         7   \\\n",
       "0 -0.397260 -0.911396  0.600000 -0.95652 -1.0 -0.204082  0.75  0.200000   \n",
       "1 -0.095890 -0.903525  0.600000 -1.00000 -1.0 -0.755102  0.50  0.200000   \n",
       "2 -0.424658 -0.723773  0.066667 -1.00000 -1.0 -0.204082  0.00  0.466667   \n",
       "3 -0.013699 -0.697863 -0.200000 -1.00000 -1.0 -0.204082  0.00 -0.866667   \n",
       "4 -0.698630 -0.557023  0.600000 -1.00000 -1.0 -0.204082  0.00  0.200000   \n",
       "\n",
       "         8         9    10   11   12        13  \n",
       "0  0.333333 -0.857143 -0.6  1.0  1.0  0.902439  \n",
       "1 -0.333333 -0.428571 -1.0  1.0  1.0  0.902439  \n",
       "2 -1.000000 -0.142857 -0.6  1.0  1.0  0.902439  \n",
       "3 -0.333333 -0.142857 -1.0  0.0  1.0  0.902439  \n",
       "4 -0.333333  0.428571  1.0  0.0 -1.0 -0.756098  "
      ]
     },
     "execution_count": 18,
     "metadata": {},
     "output_type": "execute_result"
    }
   ],
   "source": [
    "# normalizamos con el metodo de minMaxScaler\n",
    "X_dataset = dataset_result.iloc[:,0:14]\n",
    "minMaxScaler = MinMaxScaler(feature_range = (-1, 1))\n",
    "X_MinMax = pd.DataFrame(minMaxScaler.fit_transform(X_dataset))\n",
    "X_MinMax.head()"
   ]
  },
  {
   "cell_type": "markdown",
   "metadata": {},
   "source": [
    "### ENTRENAMOS LA RED"
   ]
  },
  {
   "cell_type": "code",
   "execution_count": 21,
   "metadata": {},
   "outputs": [
    {
     "name": "stderr",
     "output_type": "stream",
     "text": [
      "Using TensorFlow backend.\n"
     ]
    }
   ],
   "source": [
    "# importamos la libreria de keras\n",
    "from keras.models import Sequential\n",
    "from keras.layers import Dense"
   ]
  },
  {
   "cell_type": "code",
   "execution_count": 29,
   "metadata": {},
   "outputs": [],
   "source": [
    "# reazliamos una prueba con una capa\n",
    "model = Sequential()\n",
    "model.add(Dense(14, activation = 'relu', input_shape = (14, )))\n",
    "model.add(Dense(20, activation = 'relu'))\n",
    "model.add(Dense(1, activation = 'sigmoid'))"
   ]
  },
  {
   "cell_type": "code",
   "execution_count": 30,
   "metadata": {},
   "outputs": [
    {
     "name": "stdout",
     "output_type": "stream",
     "text": [
      "Train on 22792 samples, validate on 9769 samples\n",
      "Epoch 1/20\n",
      "22792/22792 [==============================] - 2s 68us/step - loss: 0.5389 - accuracy: 0.7592 - val_loss: 0.5128 - val_accuracy: 0.7540\n",
      "Epoch 2/20\n",
      "22792/22792 [==============================] - 1s 49us/step - loss: 0.4912 - accuracy: 0.7616 - val_loss: 0.4814 - val_accuracy: 0.7542\n",
      "Epoch 3/20\n",
      "22792/22792 [==============================] - 1s 63us/step - loss: 0.4669 - accuracy: 0.7639 - val_loss: 0.4564 - val_accuracy: 0.7619\n",
      "Epoch 4/20\n",
      "22792/22792 [==============================] - 1s 54us/step - loss: 0.4467 - accuracy: 0.7835 - val_loss: 0.4358 - val_accuracy: 0.7926\n",
      "Epoch 5/20\n",
      "22792/22792 [==============================] - 1s 64us/step - loss: 0.4299 - accuracy: 0.8008 - val_loss: 0.4186 - val_accuracy: 0.8079\n",
      "Epoch 6/20\n",
      "22792/22792 [==============================] - 1s 51us/step - loss: 0.4170 - accuracy: 0.8078 - val_loss: 0.4061 - val_accuracy: 0.8111\n",
      "Epoch 7/20\n",
      "22792/22792 [==============================] - 1s 51us/step - loss: 0.4073 - accuracy: 0.8128 - val_loss: 0.3968 - val_accuracy: 0.8158\n",
      "Epoch 8/20\n",
      "22792/22792 [==============================] - 1s 51us/step - loss: 0.4003 - accuracy: 0.8141 - val_loss: 0.3905 - val_accuracy: 0.8178\n",
      "Epoch 9/20\n",
      "22792/22792 [==============================] - 1s 53us/step - loss: 0.3951 - accuracy: 0.8148 - val_loss: 0.3854 - val_accuracy: 0.8183\n",
      "Epoch 10/20\n",
      "22792/22792 [==============================] - 1s 57us/step - loss: 0.3908 - accuracy: 0.8166 - val_loss: 0.3816 - val_accuracy: 0.8199\n",
      "Epoch 11/20\n",
      "22792/22792 [==============================] - 1s 50us/step - loss: 0.3868 - accuracy: 0.8174 - val_loss: 0.3797 - val_accuracy: 0.8198\n",
      "Epoch 12/20\n",
      "22792/22792 [==============================] - 1s 50us/step - loss: 0.3835 - accuracy: 0.8175 - val_loss: 0.3748 - val_accuracy: 0.8201\n",
      "Epoch 13/20\n",
      "22792/22792 [==============================] - 1s 52us/step - loss: 0.3803 - accuracy: 0.8188 - val_loss: 0.3716 - val_accuracy: 0.8218\n",
      "Epoch 14/20\n",
      "22792/22792 [==============================] - 1s 51us/step - loss: 0.3768 - accuracy: 0.8211 - val_loss: 0.3689 - val_accuracy: 0.8216\n",
      "Epoch 15/20\n",
      "22792/22792 [==============================] - 1s 55us/step - loss: 0.3739 - accuracy: 0.8208 - val_loss: 0.3658 - val_accuracy: 0.8240\n",
      "Epoch 16/20\n",
      "22792/22792 [==============================] - 1s 60us/step - loss: 0.3708 - accuracy: 0.8224 - val_loss: 0.3632 - val_accuracy: 0.8253\n",
      "Epoch 17/20\n",
      "22792/22792 [==============================] - 1s 52us/step - loss: 0.3676 - accuracy: 0.8242 - val_loss: 0.3609 - val_accuracy: 0.8259\n",
      "Epoch 18/20\n",
      "22792/22792 [==============================] - 1s 53us/step - loss: 0.3649 - accuracy: 0.8243 - val_loss: 0.3621 - val_accuracy: 0.8254\n",
      "Epoch 19/20\n",
      "22792/22792 [==============================] - 1s 51us/step - loss: 0.3625 - accuracy: 0.8260 - val_loss: 0.3569 - val_accuracy: 0.8277\n",
      "Epoch 20/20\n",
      "22792/22792 [==============================] - 1s 48us/step - loss: 0.3605 - accuracy: 0.8269 - val_loss: 0.3549 - val_accuracy: 0.8302\n"
     ]
    }
   ],
   "source": [
    "model.compile(loss = 'binary_crossentropy', optimizer = 'sgd', metrics = ['accuracy'])\n",
    "historial = model.fit(X_MinMax, dataset_result.salario, validation_split = 0.3, epochs = 20, batch_size = 60, verbose = 1)"
   ]
  },
  {
   "cell_type": "code",
   "execution_count": 31,
   "metadata": {},
   "outputs": [
    {
     "data": {
      "image/png": "[encoded data removed]",
      "text/plain": [
       "<Figure size 432x288 with 1 Axes>"
      ]
     },
     "metadata": {
      "needs_background": "light"
     },
     "output_type": "display_data"
    }
   ],
   "source": [
    "pp.plot(historial.history['accuracy'])\n",
    "pp.plot(historial.history['val_accuracy'])\n",
    "pp.title('Precisión del Modelo (Train vs Test)')\n",
    "pp.ylabel('Precisión')\n",
    "pp.xlabel('Épocas')\n",
    "pp.legend(['Train','Test'], loc = 'upper right')\n",
    "pp.grid(True)\n",
    "pp.show()"
   ]
  },
  {
   "cell_type": "code",
   "execution_count": 35,
   "metadata": {},
   "outputs": [
    {
     "data": {
      "image/png": "[encoded data removed]",
      "text/plain": [
       "<Figure size 432x288 with 1 Axes>"
      ]
     },
     "metadata": {
      "needs_background": "light"
     },
     "output_type": "display_data"
    }
   ],
   "source": [
    "pp.plot(historial.history['loss'])\n",
    "pp.plot(historial.history['val_loss'])\n",
    "pp.title('Log loss del Modelo (Train vs Test)')\n",
    "pp.ylabel('Precisión')\n",
    "pp.xlabel('Loss')\n",
    "pp.legend(['Train','Test'], loc = 'upper right')\n",
    "pp.grid(True)\n",
    "pp.show()"
   ]
  },
  {
   "cell_type": "code",
   "execution_count": 109,
   "metadata": {},
   "outputs": [],
   "source": [
    "# reazliamos una prueba con una capa\n",
    "model1 = Sequential()\n",
    "model1.add(Dense(14, activation = 'relu', input_shape = (14, )))\n",
    "model1.add(Dense(10, activation = 'relu'))\n",
    "model1.add(Dense(1, activation = 'sigmoid'))"
   ]
  },
  {
   "cell_type": "code",
   "execution_count": 110,
   "metadata": {},
   "outputs": [
    {
     "name": "stdout",
     "output_type": "stream",
     "text": [
      "Train on 22792 samples, validate on 9769 samples\n",
      "Epoch 1/30\n",
      "22792/22792 [==============================] - 18s 812us/step - loss: 0.4380 - accuracy: 0.7925 - val_loss: 0.3885 - val_accuracy: 0.8192\n",
      "Epoch 2/30\n",
      "22792/22792 [==============================] - 15s 680us/step - loss: 0.3827 - accuracy: 0.8205 - val_loss: 0.3603 - val_accuracy: 0.8296\n",
      "Epoch 3/30\n",
      "22792/22792 [==============================] - 21s 910us/step - loss: 0.3649 - accuracy: 0.8261 - val_loss: 0.3501 - val_accuracy: 0.8350\n",
      "Epoch 4/30\n",
      "22792/22792 [==============================] - 19s 850us/step - loss: 0.3538 - accuracy: 0.8329 - val_loss: 0.3437 - val_accuracy: 0.8387\n",
      "Epoch 5/30\n",
      "22792/22792 [==============================] - 14s 625us/step - loss: 0.3488 - accuracy: 0.8328 - val_loss: 0.3408 - val_accuracy: 0.8396\n",
      "Epoch 6/30\n",
      "22792/22792 [==============================] - 16s 683us/step - loss: 0.3457 - accuracy: 0.8356 - val_loss: 0.3389 - val_accuracy: 0.8423\n",
      "Epoch 7/30\n",
      "22792/22792 [==============================] - 16s 712us/step - loss: 0.3432 - accuracy: 0.8367 - val_loss: 0.3539 - val_accuracy: 0.8324\n",
      "Epoch 8/30\n",
      "22792/22792 [==============================] - 20s 865us/step - loss: 0.3409 - accuracy: 0.8402 - val_loss: 0.3425 - val_accuracy: 0.8399\n",
      "Epoch 9/30\n",
      "22792/22792 [==============================] - 20s 886us/step - loss: 0.3394 - accuracy: 0.8400 - val_loss: 0.3326 - val_accuracy: 0.8464\n",
      "Epoch 10/30\n",
      "22792/22792 [==============================] - 17s 751us/step - loss: 0.3379 - accuracy: 0.8377 - val_loss: 0.3355 - val_accuracy: 0.8432\n",
      "Epoch 11/30\n",
      "22792/22792 [==============================] - 17s 732us/step - loss: 0.3377 - accuracy: 0.8399 - val_loss: 0.3309 - val_accuracy: 0.8468\n",
      "Epoch 12/30\n",
      "22792/22792 [==============================] - 17s 725us/step - loss: 0.3360 - accuracy: 0.8388 - val_loss: 0.3321 - val_accuracy: 0.8461\n",
      "Epoch 13/30\n",
      "22792/22792 [==============================] - 16s 714us/step - loss: 0.3341 - accuracy: 0.8428 - val_loss: 0.3270 - val_accuracy: 0.8499\n",
      "Epoch 14/30\n",
      "22792/22792 [==============================] - 17s 750us/step - loss: 0.3345 - accuracy: 0.8401 - val_loss: 0.3301 - val_accuracy: 0.8447\n",
      "Epoch 15/30\n",
      "22792/22792 [==============================] - 15s 647us/step - loss: 0.3326 - accuracy: 0.8418 - val_loss: 0.3357 - val_accuracy: 0.8452\n",
      "Epoch 16/30\n",
      "22792/22792 [==============================] - 16s 696us/step - loss: 0.3317 - accuracy: 0.8424 - val_loss: 0.3308 - val_accuracy: 0.8444\n",
      "Epoch 17/30\n",
      "22792/22792 [==============================] - 16s 705us/step - loss: 0.3309 - accuracy: 0.8433 - val_loss: 0.3274 - val_accuracy: 0.8464\n",
      "Epoch 18/30\n",
      "22792/22792 [==============================] - 16s 722us/step - loss: 0.3309 - accuracy: 0.8452 - val_loss: 0.3265 - val_accuracy: 0.8469\n",
      "Epoch 19/30\n",
      "22792/22792 [==============================] - 18s 768us/step - loss: 0.3305 - accuracy: 0.8444 - val_loss: 0.3291 - val_accuracy: 0.8471\n",
      "Epoch 20/30\n",
      "22792/22792 [==============================] - 25s 1ms/step - loss: 0.3291 - accuracy: 0.8430 - val_loss: 0.3261 - val_accuracy: 0.8487\n",
      "Epoch 21/30\n",
      "22792/22792 [==============================] - 16s 691us/step - loss: 0.3291 - accuracy: 0.8445 - val_loss: 0.3280 - val_accuracy: 0.8478\n",
      "Epoch 22/30\n",
      "22792/22792 [==============================] - 21s 921us/step - loss: 0.3289 - accuracy: 0.8425 - val_loss: 0.3238 - val_accuracy: 0.8488\n",
      "Epoch 23/30\n",
      "22792/22792 [==============================] - 19s 855us/step - loss: 0.3284 - accuracy: 0.8449 - val_loss: 0.3332 - val_accuracy: 0.8450\n",
      "Epoch 24/30\n",
      "22792/22792 [==============================] - 20s 883us/step - loss: 0.3285 - accuracy: 0.8446 - val_loss: 0.3234 - val_accuracy: 0.8532\n",
      "Epoch 25/30\n",
      "22792/22792 [==============================] - 14s 614us/step - loss: 0.3274 - accuracy: 0.8449 - val_loss: 0.3306 - val_accuracy: 0.8451\n",
      "Epoch 26/30\n",
      "22792/22792 [==============================] - 15s 673us/step - loss: 0.3270 - accuracy: 0.8437 - val_loss: 0.3258 - val_accuracy: 0.8484\n",
      "Epoch 27/30\n",
      "22792/22792 [==============================] - 17s 724us/step - loss: 0.3274 - accuracy: 0.8453 - val_loss: 0.3257 - val_accuracy: 0.8497\n",
      "Epoch 28/30\n",
      "22792/22792 [==============================] - 14s 612us/step - loss: 0.3273 - accuracy: 0.8431 - val_loss: 0.3234 - val_accuracy: 0.8498\n",
      "Epoch 29/30\n",
      "22792/22792 [==============================] - 15s 668us/step - loss: 0.3258 - accuracy: 0.8431 - val_loss: 0.3220 - val_accuracy: 0.8482\n",
      "Epoch 30/30\n",
      "22792/22792 [==============================] - 15s 671us/step - loss: 0.3257 - accuracy: 0.8462 - val_loss: 0.3208 - val_accuracy: 0.8512\n"
     ]
    }
   ],
   "source": [
    "model1.compile(loss = 'binary_crossentropy', optimizer = 'sgd', metrics = ['accuracy'])\n",
    "historial1 = model1.fit(X_MinMax, dataset_result.salario, validation_split = 0.3, epochs = 30, batch_size = 5, verbose = 1)"
   ]
  },
  {
   "cell_type": "code",
   "execution_count": 111,
   "metadata": {},
   "outputs": [
    {
     "data": {
      "image/png": "[encoded data removed]",
      "text/plain": [
       "<Figure size 432x288 with 1 Axes>"
      ]
     },
     "metadata": {
      "needs_background": "light"
     },
     "output_type": "display_data"
    }
   ],
   "source": [
    "pp.plot(historial1.history['accuracy'])\n",
    "pp.plot(historial1.history['val_accuracy'])\n",
    "pp.title('Precisión del Modelo (Train vs Test)')\n",
    "pp.ylabel('Precisión')\n",
    "pp.xlabel('Épocas')\n",
    "pp.legend(['Train','Test'], loc = 'upper right')\n",
    "pp.grid(True)\n",
    "pp.show()"
   ]
  },
  {
   "cell_type": "code",
   "execution_count": 112,
   "metadata": {},
   "outputs": [
    {
     "data": {
      "image/png": "[encoded data removed]",
      "text/plain": [
       "<Figure size 432x288 with 1 Axes>"
      ]
     },
     "metadata": {
      "needs_background": "light"
     },
     "output_type": "display_data"
    }
   ],
   "source": [
    "pp.plot(historial1.history['loss'])\n",
    "pp.plot(historial1.history['val_loss'])\n",
    "pp.title('Log loss del Modelo (Train vs Test)')\n",
    "pp.ylabel('Precisión')\n",
    "pp.xlabel('Loss')\n",
    "pp.legend(['Train','Test'], loc = 'upper right')\n",
    "pp.grid(True)\n",
    "pp.show()"
   ]
  },
  {
   "cell_type": "code",
   "execution_count": 105,
   "metadata": {},
   "outputs": [],
   "source": [
    "# reazliamos una prueba con una capa\n",
    "model2 = Sequential()\n",
    "model2.add(Dense(14, activation = 'relu', input_shape = (14, )))\n",
    "model2.add(Dense(20, activation = 'relu'))\n",
    "model2.add(Dense(1, activation = 'sigmoid'))"
   ]
  },
  {
   "cell_type": "code",
   "execution_count": 106,
   "metadata": {},
   "outputs": [
    {
     "name": "stdout",
     "output_type": "stream",
     "text": [
      "Train on 22792 samples, validate on 9769 samples\n",
      "Epoch 1/40\n",
      "22792/22792 [==============================] - 1s 50us/step - loss: 0.5395 - accuracy: 0.7592 - val_loss: 0.5213 - val_accuracy: 0.7534\n",
      "Epoch 2/40\n",
      "22792/22792 [==============================] - 1s 33us/step - loss: 0.5077 - accuracy: 0.7602 - val_loss: 0.4992 - val_accuracy: 0.7534\n",
      "Epoch 3/40\n",
      "22792/22792 [==============================] - 1s 36us/step - loss: 0.4901 - accuracy: 0.7631 - val_loss: 0.4821 - val_accuracy: 0.7601\n",
      "Epoch 4/40\n",
      "22792/22792 [==============================] - 1s 34us/step - loss: 0.4757 - accuracy: 0.7692 - val_loss: 0.4671 - val_accuracy: 0.7674\n",
      "Epoch 5/40\n",
      "22792/22792 [==============================] - 1s 47us/step - loss: 0.4628 - accuracy: 0.7756 - val_loss: 0.4535 - val_accuracy: 0.7796\n",
      "Epoch 6/40\n",
      "22792/22792 [==============================] - 1s 37us/step - loss: 0.4513 - accuracy: 0.7847 - val_loss: 0.4416 - val_accuracy: 0.7893\n",
      "Epoch 7/40\n",
      "22792/22792 [==============================] - 1s 56us/step - loss: 0.4408 - accuracy: 0.7938 - val_loss: 0.4311 - val_accuracy: 0.7958\n",
      "Epoch 8/40\n",
      "22792/22792 [==============================] - 1s 35us/step - loss: 0.4318 - accuracy: 0.7988 - val_loss: 0.4222 - val_accuracy: 0.8022\n",
      "Epoch 9/40\n",
      "22792/22792 [==============================] - 1s 41us/step - loss: 0.4240 - accuracy: 0.8027 - val_loss: 0.4139 - val_accuracy: 0.8090\n",
      "Epoch 10/40\n",
      "22792/22792 [==============================] - 1s 39us/step - loss: 0.4175 - accuracy: 0.8068 - val_loss: 0.4076 - val_accuracy: 0.8113\n",
      "Epoch 11/40\n",
      "22792/22792 [==============================] - 1s 44us/step - loss: 0.4121 - accuracy: 0.8099 - val_loss: 0.4023 - val_accuracy: 0.8150\n",
      "Epoch 12/40\n",
      "22792/22792 [==============================] - 1s 54us/step - loss: 0.4076 - accuracy: 0.8118 - val_loss: 0.3986 - val_accuracy: 0.8141\n",
      "Epoch 13/40\n",
      "22792/22792 [==============================] - 1s 37us/step - loss: 0.4040 - accuracy: 0.8123 - val_loss: 0.3946 - val_accuracy: 0.8156\n",
      "Epoch 14/40\n",
      "22792/22792 [==============================] - 1s 47us/step - loss: 0.4008 - accuracy: 0.8134 - val_loss: 0.3914 - val_accuracy: 0.8153\n",
      "Epoch 15/40\n",
      "22792/22792 [==============================] - 1s 47us/step - loss: 0.3981 - accuracy: 0.8137 - val_loss: 0.3890 - val_accuracy: 0.8169\n",
      "Epoch 16/40\n",
      "22792/22792 [==============================] - 1s 53us/step - loss: 0.3958 - accuracy: 0.8143 - val_loss: 0.3865 - val_accuracy: 0.8175\n",
      "Epoch 17/40\n",
      "22792/22792 [==============================] - 1s 34us/step - loss: 0.3937 - accuracy: 0.8138 - val_loss: 0.3843 - val_accuracy: 0.8163\n",
      "Epoch 18/40\n",
      "22792/22792 [==============================] - 1s 33us/step - loss: 0.3918 - accuracy: 0.8140 - val_loss: 0.3826 - val_accuracy: 0.8186\n",
      "Epoch 19/40\n",
      "22792/22792 [==============================] - 1s 34us/step - loss: 0.3899 - accuracy: 0.8152 - val_loss: 0.3807 - val_accuracy: 0.8183\n",
      "Epoch 20/40\n",
      "22792/22792 [==============================] - 1s 33us/step - loss: 0.3881 - accuracy: 0.8146 - val_loss: 0.3793 - val_accuracy: 0.8194\n",
      "Epoch 21/40\n",
      "22792/22792 [==============================] - 1s 34us/step - loss: 0.3864 - accuracy: 0.8155 - val_loss: 0.3774 - val_accuracy: 0.8186\n",
      "Epoch 22/40\n",
      "22792/22792 [==============================] - 1s 34us/step - loss: 0.3849 - accuracy: 0.8152 - val_loss: 0.3760 - val_accuracy: 0.8193\n",
      "Epoch 23/40\n",
      "22792/22792 [==============================] - 1s 34us/step - loss: 0.3833 - accuracy: 0.8156 - val_loss: 0.3762 - val_accuracy: 0.8192\n",
      "Epoch 24/40\n",
      "22792/22792 [==============================] - 1s 34us/step - loss: 0.3818 - accuracy: 0.8161 - val_loss: 0.3732 - val_accuracy: 0.8202\n",
      "Epoch 25/40\n",
      "22792/22792 [==============================] - 1s 34us/step - loss: 0.3804 - accuracy: 0.8163 - val_loss: 0.3731 - val_accuracy: 0.8210\n",
      "Epoch 26/40\n",
      "22792/22792 [==============================] - 1s 34us/step - loss: 0.3791 - accuracy: 0.8174 - val_loss: 0.3707 - val_accuracy: 0.8213\n",
      "Epoch 27/40\n",
      "22792/22792 [==============================] - 1s 34us/step - loss: 0.3776 - accuracy: 0.8176 - val_loss: 0.3694 - val_accuracy: 0.8213\n",
      "Epoch 28/40\n",
      "22792/22792 [==============================] - 1s 34us/step - loss: 0.3763 - accuracy: 0.8192 - val_loss: 0.3689 - val_accuracy: 0.8208\n",
      "Epoch 29/40\n",
      "22792/22792 [==============================] - 1s 37us/step - loss: 0.3750 - accuracy: 0.8195 - val_loss: 0.3671 - val_accuracy: 0.8228\n",
      "Epoch 30/40\n",
      "22792/22792 [==============================] - 1s 38us/step - loss: 0.3739 - accuracy: 0.8208 - val_loss: 0.3661 - val_accuracy: 0.8243\n",
      "Epoch 31/40\n",
      "22792/22792 [==============================] - 1s 33us/step - loss: 0.3728 - accuracy: 0.8206 - val_loss: 0.3658 - val_accuracy: 0.8237\n",
      "Epoch 32/40\n",
      "22792/22792 [==============================] - 1s 33us/step - loss: 0.3717 - accuracy: 0.8215 - val_loss: 0.3642 - val_accuracy: 0.8255\n",
      "Epoch 33/40\n",
      "22792/22792 [==============================] - ETA: 0s - loss: 0.3703 - accuracy: 0.82 - 1s 33us/step - loss: 0.3706 - accuracy: 0.8211 - val_loss: 0.3633 - val_accuracy: 0.8257\n",
      "Epoch 34/40\n",
      "22792/22792 [==============================] - 1s 34us/step - loss: 0.3696 - accuracy: 0.8225 - val_loss: 0.3625 - val_accuracy: 0.8268\n",
      "Epoch 35/40\n",
      "22792/22792 [==============================] - 1s 34us/step - loss: 0.3688 - accuracy: 0.8237 - val_loss: 0.3616 - val_accuracy: 0.8275\n",
      "Epoch 36/40\n",
      "22792/22792 [==============================] - 1s 34us/step - loss: 0.3677 - accuracy: 0.8240 - val_loss: 0.3606 - val_accuracy: 0.8300\n",
      "Epoch 37/40\n",
      "22792/22792 [==============================] - 1s 38us/step - loss: 0.3669 - accuracy: 0.8250 - val_loss: 0.3600 - val_accuracy: 0.8285\n",
      "Epoch 38/40\n",
      "22792/22792 [==============================] - 1s 39us/step - loss: 0.3659 - accuracy: 0.8248 - val_loss: 0.3595 - val_accuracy: 0.8294\n",
      "Epoch 39/40\n",
      "22792/22792 [==============================] - 1s 44us/step - loss: 0.3651 - accuracy: 0.8255 - val_loss: 0.3583 - val_accuracy: 0.8309\n",
      "Epoch 40/40\n",
      "22792/22792 [==============================] - 1s 36us/step - loss: 0.3642 - accuracy: 0.8259 - val_loss: 0.3581 - val_accuracy: 0.8302\n"
     ]
    }
   ],
   "source": [
    "model2.compile(loss = 'binary_crossentropy', optimizer = 'sgd', metrics = ['accuracy'])\n",
    "historial2 = model2.fit(X_MinMax, dataset_result.salario, validation_split = 0.3, epochs = 40, batch_size = 100, verbose = 1)"
   ]
  },
  {
   "cell_type": "code",
   "execution_count": 107,
   "metadata": {},
   "outputs": [
    {
     "data": {
      "image/png": "[encoded data removed]",
      "text/plain": [
       "<Figure size 432x288 with 1 Axes>"
      ]
     },
     "metadata": {
      "needs_background": "light"
     },
     "output_type": "display_data"
    }
   ],
   "source": [
    "pp.plot(historial2.history['accuracy'])\n",
    "pp.plot(historial2.history['val_accuracy'])\n",
    "pp.title('Precisión del Modelo (Train vs Test)')\n",
    "pp.ylabel('Precisión')\n",
    "pp.xlabel('Épocas')\n",
    "pp.legend(['Train','Test'], loc = 'upper right')\n",
    "pp.grid(True)\n",
    "pp.show()"
   ]
  },
  {
   "cell_type": "code",
   "execution_count": 108,
   "metadata": {},
   "outputs": [
    {
     "data": {
      "image/png": "[encoded data removed]",
      "text/plain": [
       "<Figure size 432x288 with 1 Axes>"
      ]
     },
     "metadata": {
      "needs_background": "light"
     },
     "output_type": "display_data"
    }
   ],
   "source": [
    "pp.plot(historial2.history['loss'])\n",
    "pp.plot(historial2.history['val_loss'])\n",
    "pp.title('Log loss del Modelo (Train vs Test)')\n",
    "pp.ylabel('Precisión')\n",
    "pp.xlabel('Loss')\n",
    "pp.legend(['Train','Test'], loc = 'upper right')\n",
    "pp.grid(True)\n",
    "pp.show()"
   ]
  },
  {
   "cell_type": "code",
   "execution_count": 93,
   "metadata": {},
   "outputs": [],
   "source": [
    "# reazliamos una prueba con una capa\n",
    "model3 = Sequential()\n",
    "model3.add(Dense(14, activation = 'relu', input_shape = (14, )))\n",
    "model3.add(Dense(20, activation = 'relu'))\n",
    "model3.add(Dense(1, activation = 'sigmoid'))"
   ]
  },
  {
   "cell_type": "code",
   "execution_count": 96,
   "metadata": {},
   "outputs": [
    {
     "name": "stdout",
     "output_type": "stream",
     "text": [
      "Train on 22792 samples, validate on 9769 samples\n",
      "Epoch 1/100\n",
      "22792/22792 [==============================] - 1s 33us/step - loss: 0.3631 - accuracy: 0.8279 - val_loss: 0.3584 - val_accuracy: 0.8328\n",
      "Epoch 2/100\n",
      "22792/22792 [==============================] - 0s 18us/step - loss: 0.3627 - accuracy: 0.8277 - val_loss: 0.3574 - val_accuracy: 0.8312\n",
      "Epoch 3/100\n",
      "22792/22792 [==============================] - 0s 19us/step - loss: 0.3621 - accuracy: 0.8287 - val_loss: 0.3571 - val_accuracy: 0.8322\n",
      "Epoch 4/100\n",
      "22792/22792 [==============================] - 0s 18us/step - loss: 0.3615 - accuracy: 0.8273 - val_loss: 0.3565 - val_accuracy: 0.8325\n",
      "Epoch 5/100\n",
      "22792/22792 [==============================] - 0s 18us/step - loss: 0.3612 - accuracy: 0.8292 - val_loss: 0.3568 - val_accuracy: 0.8321\n",
      "Epoch 6/100\n",
      "22792/22792 [==============================] - 1s 26us/step - loss: 0.3605 - accuracy: 0.8292 - val_loss: 0.3556 - val_accuracy: 0.8320\n",
      "Epoch 7/100\n",
      "22792/22792 [==============================] - 0s 20us/step - loss: 0.3599 - accuracy: 0.8278 - val_loss: 0.3552 - val_accuracy: 0.8317\n",
      "Epoch 8/100\n",
      "22792/22792 [==============================] - 0s 20us/step - loss: 0.3596 - accuracy: 0.8284 - val_loss: 0.3547 - val_accuracy: 0.8324\n",
      "Epoch 9/100\n",
      "22792/22792 [==============================] - 0s 19us/step - loss: 0.3591 - accuracy: 0.8296 - val_loss: 0.3543 - val_accuracy: 0.8329\n",
      "Epoch 10/100\n",
      "22792/22792 [==============================] - 0s 18us/step - loss: 0.3587 - accuracy: 0.8305 - val_loss: 0.3539 - val_accuracy: 0.8329\n",
      "Epoch 11/100\n",
      "22792/22792 [==============================] - 0s 18us/step - loss: 0.3582 - accuracy: 0.8301 - val_loss: 0.3534 - val_accuracy: 0.8334\n",
      "Epoch 12/100\n",
      "22792/22792 [==============================] - 0s 18us/step - loss: 0.3576 - accuracy: 0.8314 - val_loss: 0.3537 - val_accuracy: 0.8360\n",
      "Epoch 13/100\n",
      "22792/22792 [==============================] - 0s 18us/step - loss: 0.3573 - accuracy: 0.8301 - val_loss: 0.3525 - val_accuracy: 0.8337\n",
      "Epoch 14/100\n",
      "22792/22792 [==============================] - 0s 18us/step - loss: 0.3568 - accuracy: 0.8313 - val_loss: 0.3522 - val_accuracy: 0.8340\n",
      "Epoch 15/100\n",
      "22792/22792 [==============================] - 0s 18us/step - loss: 0.3561 - accuracy: 0.8311 - val_loss: 0.3517 - val_accuracy: 0.8348\n",
      "Epoch 16/100\n",
      "22792/22792 [==============================] - 0s 18us/step - loss: 0.3557 - accuracy: 0.8316 - val_loss: 0.3513 - val_accuracy: 0.8352\n",
      "Epoch 17/100\n",
      "22792/22792 [==============================] - 0s 18us/step - loss: 0.3554 - accuracy: 0.8319 - val_loss: 0.3513 - val_accuracy: 0.8346\n",
      "Epoch 18/100\n",
      "22792/22792 [==============================] - 0s 18us/step - loss: 0.3548 - accuracy: 0.8325 - val_loss: 0.3512 - val_accuracy: 0.8349\n",
      "Epoch 19/100\n",
      "22792/22792 [==============================] - 0s 18us/step - loss: 0.3544 - accuracy: 0.8327 - val_loss: 0.3501 - val_accuracy: 0.8351\n",
      "Epoch 20/100\n",
      "22792/22792 [==============================] - 0s 18us/step - loss: 0.3539 - accuracy: 0.8324 - val_loss: 0.3496 - val_accuracy: 0.8363\n",
      "Epoch 21/100\n",
      "22792/22792 [==============================] - 0s 18us/step - loss: 0.3535 - accuracy: 0.8333 - val_loss: 0.3493 - val_accuracy: 0.8366\n",
      "Epoch 22/100\n",
      "22792/22792 [==============================] - 0s 18us/step - loss: 0.3531 - accuracy: 0.8329 - val_loss: 0.3490 - val_accuracy: 0.8368\n",
      "Epoch 23/100\n",
      "22792/22792 [==============================] - 0s 19us/step - loss: 0.3527 - accuracy: 0.8340 - val_loss: 0.3486 - val_accuracy: 0.8359\n",
      "Epoch 24/100\n",
      "22792/22792 [==============================] - 0s 19us/step - loss: 0.3523 - accuracy: 0.8345 - val_loss: 0.3481 - val_accuracy: 0.8366\n",
      "Epoch 25/100\n",
      "22792/22792 [==============================] - 0s 18us/step - loss: 0.3519 - accuracy: 0.8333 - val_loss: 0.3480 - val_accuracy: 0.8381\n",
      "Epoch 26/100\n",
      "22792/22792 [==============================] - 0s 19us/step - loss: 0.3515 - accuracy: 0.8345 - val_loss: 0.3475 - val_accuracy: 0.8365\n",
      "Epoch 27/100\n",
      "22792/22792 [==============================] - 0s 18us/step - loss: 0.3511 - accuracy: 0.8342 - val_loss: 0.3478 - val_accuracy: 0.8358\n",
      "Epoch 28/100\n",
      "22792/22792 [==============================] - 0s 18us/step - loss: 0.3508 - accuracy: 0.8344 - val_loss: 0.3467 - val_accuracy: 0.8366\n",
      "Epoch 29/100\n",
      "22792/22792 [==============================] - 0s 18us/step - loss: 0.3504 - accuracy: 0.8342 - val_loss: 0.3463 - val_accuracy: 0.8382\n",
      "Epoch 30/100\n",
      "22792/22792 [==============================] - 0s 18us/step - loss: 0.3498 - accuracy: 0.8348 - val_loss: 0.3460 - val_accuracy: 0.8373\n",
      "Epoch 31/100\n",
      "22792/22792 [==============================] - 0s 19us/step - loss: 0.3495 - accuracy: 0.8354 - val_loss: 0.3459 - val_accuracy: 0.8370\n",
      "Epoch 32/100\n",
      "22792/22792 [==============================] - 0s 19us/step - loss: 0.3491 - accuracy: 0.8363 - val_loss: 0.3457 - val_accuracy: 0.8373\n",
      "Epoch 33/100\n",
      "22792/22792 [==============================] - 0s 19us/step - loss: 0.3487 - accuracy: 0.8344 - val_loss: 0.3449 - val_accuracy: 0.8382\n",
      "Epoch 34/100\n",
      "22792/22792 [==============================] - 0s 18us/step - loss: 0.3484 - accuracy: 0.8357 - val_loss: 0.3447 - val_accuracy: 0.8376\n",
      "Epoch 35/100\n",
      "22792/22792 [==============================] - 0s 18us/step - loss: 0.3480 - accuracy: 0.8347 - val_loss: 0.3443 - val_accuracy: 0.8391\n",
      "Epoch 36/100\n",
      "22792/22792 [==============================] - 0s 18us/step - loss: 0.3478 - accuracy: 0.8363 - val_loss: 0.3440 - val_accuracy: 0.8394\n",
      "Epoch 37/100\n",
      "22792/22792 [==============================] - 0s 19us/step - loss: 0.3473 - accuracy: 0.8360 - val_loss: 0.3445 - val_accuracy: 0.8423\n",
      "Epoch 38/100\n",
      "22792/22792 [==============================] - 0s 18us/step - loss: 0.3470 - accuracy: 0.8367 - val_loss: 0.3441 - val_accuracy: 0.8385\n",
      "Epoch 39/100\n",
      "22792/22792 [==============================] - 0s 19us/step - loss: 0.3467 - accuracy: 0.8363 - val_loss: 0.3431 - val_accuracy: 0.8405\n",
      "Epoch 40/100\n",
      "22792/22792 [==============================] - 0s 18us/step - loss: 0.3463 - accuracy: 0.8363 - val_loss: 0.3431 - val_accuracy: 0.8386\n",
      "Epoch 41/100\n",
      "22792/22792 [==============================] - 0s 21us/step - loss: 0.3460 - accuracy: 0.8366 - val_loss: 0.3430 - val_accuracy: 0.8417\n",
      "Epoch 42/100\n",
      "22792/22792 [==============================] - 1s 23us/step - loss: 0.3457 - accuracy: 0.8370 - val_loss: 0.3425 - val_accuracy: 0.8413\n",
      "Epoch 43/100\n",
      "22792/22792 [==============================] - 0s 21us/step - loss: 0.3453 - accuracy: 0.8368 - val_loss: 0.3423 - val_accuracy: 0.8387\n",
      "Epoch 44/100\n",
      "22792/22792 [==============================] - 0s 20us/step - loss: 0.3449 - accuracy: 0.8373 - val_loss: 0.3422 - val_accuracy: 0.8424\n",
      "Epoch 45/100\n",
      "22792/22792 [==============================] - 0s 21us/step - loss: 0.3448 - accuracy: 0.8372 - val_loss: 0.3415 - val_accuracy: 0.8399\n",
      "Epoch 46/100\n",
      "22792/22792 [==============================] - 0s 19us/step - loss: 0.3444 - accuracy: 0.8371 - val_loss: 0.3412 - val_accuracy: 0.8403\n",
      "Epoch 47/100\n",
      "22792/22792 [==============================] - 0s 22us/step - loss: 0.3440 - accuracy: 0.8378 - val_loss: 0.3409 - val_accuracy: 0.8412\n",
      "Epoch 48/100\n",
      "22792/22792 [==============================] - 0s 22us/step - loss: 0.3438 - accuracy: 0.8379 - val_loss: 0.3408 - val_accuracy: 0.8402\n",
      "Epoch 49/100\n",
      "22792/22792 [==============================] - 0s 19us/step - loss: 0.3437 - accuracy: 0.8382 - val_loss: 0.3406 - val_accuracy: 0.8403\n",
      "Epoch 50/100\n",
      "22792/22792 [==============================] - 1s 23us/step - loss: 0.3431 - accuracy: 0.8379 - val_loss: 0.3405 - val_accuracy: 0.8431\n",
      "Epoch 51/100\n",
      "22792/22792 [==============================] - 0s 20us/step - loss: 0.3428 - accuracy: 0.8385 - val_loss: 0.3408 - val_accuracy: 0.8426\n",
      "Epoch 52/100\n",
      "22792/22792 [==============================] - 0s 20us/step - loss: 0.3427 - accuracy: 0.8391 - val_loss: 0.3401 - val_accuracy: 0.8403\n",
      "Epoch 53/100\n",
      "22792/22792 [==============================] - 0s 22us/step - loss: 0.3422 - accuracy: 0.8391 - val_loss: 0.3401 - val_accuracy: 0.8442\n",
      "Epoch 54/100\n",
      "22792/22792 [==============================] - 1s 22us/step - loss: 0.3421 - accuracy: 0.8388 - val_loss: 0.3395 - val_accuracy: 0.8398\n",
      "Epoch 55/100\n",
      "22792/22792 [==============================] - 0s 19us/step - loss: 0.3420 - accuracy: 0.8383 - val_loss: 0.3394 - val_accuracy: 0.8441\n"
     ]
    },
    {
     "name": "stdout",
     "output_type": "stream",
     "text": [
      "Epoch 56/100\n",
      "22792/22792 [==============================] - 0s 18us/step - loss: 0.3417 - accuracy: 0.8391 - val_loss: 0.3387 - val_accuracy: 0.8429\n",
      "Epoch 57/100\n",
      "22792/22792 [==============================] - 0s 17us/step - loss: 0.3415 - accuracy: 0.8388 - val_loss: 0.3386 - val_accuracy: 0.8424\n",
      "Epoch 58/100\n",
      "22792/22792 [==============================] - 0s 17us/step - loss: 0.3411 - accuracy: 0.8389 - val_loss: 0.3384 - val_accuracy: 0.8422\n",
      "Epoch 59/100\n",
      "22792/22792 [==============================] - 0s 18us/step - loss: 0.3410 - accuracy: 0.8396 - val_loss: 0.3383 - val_accuracy: 0.8425\n",
      "Epoch 60/100\n",
      "22792/22792 [==============================] - 0s 18us/step - loss: 0.3407 - accuracy: 0.8388 - val_loss: 0.3382 - val_accuracy: 0.8411\n",
      "Epoch 61/100\n",
      "22792/22792 [==============================] - 0s 18us/step - loss: 0.3403 - accuracy: 0.8394 - val_loss: 0.3390 - val_accuracy: 0.8441\n",
      "Epoch 62/100\n",
      "22792/22792 [==============================] - 0s 20us/step - loss: 0.3403 - accuracy: 0.8401 - val_loss: 0.3377 - val_accuracy: 0.8424\n",
      "Epoch 63/100\n",
      "22792/22792 [==============================] - 0s 22us/step - loss: 0.3397 - accuracy: 0.8404 - val_loss: 0.3375 - val_accuracy: 0.8427\n",
      "Epoch 64/100\n",
      "22792/22792 [==============================] - 1s 22us/step - loss: 0.3400 - accuracy: 0.8406 - val_loss: 0.3373 - val_accuracy: 0.8423\n",
      "Epoch 65/100\n",
      "22792/22792 [==============================] - 0s 19us/step - loss: 0.3397 - accuracy: 0.8400 - val_loss: 0.3371 - val_accuracy: 0.8433\n",
      "Epoch 66/100\n",
      "22792/22792 [==============================] - 0s 19us/step - loss: 0.3396 - accuracy: 0.8405 - val_loss: 0.3374 - val_accuracy: 0.8414\n",
      "Epoch 67/100\n",
      "22792/22792 [==============================] - 0s 21us/step - loss: 0.3392 - accuracy: 0.8401 - val_loss: 0.3371 - val_accuracy: 0.8442\n",
      "Epoch 68/100\n",
      "22792/22792 [==============================] - 0s 19us/step - loss: 0.3390 - accuracy: 0.8406 - val_loss: 0.3365 - val_accuracy: 0.8426\n",
      "Epoch 69/100\n",
      "22792/22792 [==============================] - 0s 21us/step - loss: 0.3388 - accuracy: 0.8408 - val_loss: 0.3384 - val_accuracy: 0.8419\n",
      "Epoch 70/100\n",
      "22792/22792 [==============================] - 0s 19us/step - loss: 0.3388 - accuracy: 0.8406 - val_loss: 0.3362 - val_accuracy: 0.8429\n",
      "Epoch 71/100\n",
      "22792/22792 [==============================] - 0s 21us/step - loss: 0.3385 - accuracy: 0.8403 - val_loss: 0.3374 - val_accuracy: 0.8427\n",
      "Epoch 72/100\n",
      "22792/22792 [==============================] - 0s 20us/step - loss: 0.3383 - accuracy: 0.8402 - val_loss: 0.3361 - val_accuracy: 0.8426\n",
      "Epoch 73/100\n",
      "22792/22792 [==============================] - 0s 19us/step - loss: 0.3382 - accuracy: 0.8404 - val_loss: 0.3358 - val_accuracy: 0.8442\n",
      "Epoch 74/100\n",
      "22792/22792 [==============================] - 0s 21us/step - loss: 0.3379 - accuracy: 0.8412 - val_loss: 0.3389 - val_accuracy: 0.8429\n",
      "Epoch 75/100\n",
      "22792/22792 [==============================] - 0s 18us/step - loss: 0.3378 - accuracy: 0.8417 - val_loss: 0.3359 - val_accuracy: 0.8443\n",
      "Epoch 76/100\n",
      "22792/22792 [==============================] - 0s 21us/step - loss: 0.3378 - accuracy: 0.8415 - val_loss: 0.3354 - val_accuracy: 0.8429\n",
      "Epoch 77/100\n",
      "22792/22792 [==============================] - 0s 20us/step - loss: 0.3379 - accuracy: 0.8413 - val_loss: 0.3362 - val_accuracy: 0.8426\n",
      "Epoch 78/100\n",
      "22792/22792 [==============================] - 0s 19us/step - loss: 0.3373 - accuracy: 0.8416 - val_loss: 0.3382 - val_accuracy: 0.8436\n",
      "Epoch 79/100\n",
      "22792/22792 [==============================] - 0s 19us/step - loss: 0.3372 - accuracy: 0.8425 - val_loss: 0.3350 - val_accuracy: 0.8451\n",
      "Epoch 80/100\n",
      "22792/22792 [==============================] - 0s 21us/step - loss: 0.3371 - accuracy: 0.8417 - val_loss: 0.3358 - val_accuracy: 0.8428\n",
      "Epoch 81/100\n",
      "22792/22792 [==============================] - 0s 18us/step - loss: 0.3367 - accuracy: 0.8409 - val_loss: 0.3347 - val_accuracy: 0.8458\n",
      "Epoch 82/100\n",
      "22792/22792 [==============================] - 0s 21us/step - loss: 0.3368 - accuracy: 0.8412 - val_loss: 0.3350 - val_accuracy: 0.8441\n",
      "Epoch 83/100\n",
      "22792/22792 [==============================] - 0s 21us/step - loss: 0.3367 - accuracy: 0.8424 - val_loss: 0.3344 - val_accuracy: 0.8434\n",
      "Epoch 84/100\n",
      "22792/22792 [==============================] - 0s 18us/step - loss: 0.3363 - accuracy: 0.8428 - val_loss: 0.3342 - val_accuracy: 0.8433\n",
      "Epoch 85/100\n",
      "22792/22792 [==============================] - 0s 20us/step - loss: 0.3363 - accuracy: 0.8419 - val_loss: 0.3342 - val_accuracy: 0.8431\n",
      "Epoch 86/100\n",
      "22792/22792 [==============================] - 0s 19us/step - loss: 0.3362 - accuracy: 0.8423 - val_loss: 0.3339 - val_accuracy: 0.8443\n",
      "Epoch 87/100\n",
      "22792/22792 [==============================] - 0s 19us/step - loss: 0.3360 - accuracy: 0.8421 - val_loss: 0.3339 - val_accuracy: 0.8440\n",
      "Epoch 88/100\n",
      "22792/22792 [==============================] - 0s 22us/step - loss: 0.3360 - accuracy: 0.8413 - val_loss: 0.3344 - val_accuracy: 0.8427\n",
      "Epoch 89/100\n",
      "22792/22792 [==============================] - 0s 19us/step - loss: 0.3358 - accuracy: 0.8412 - val_loss: 0.3338 - val_accuracy: 0.8452\n",
      "Epoch 90/100\n",
      "22792/22792 [==============================] - ETA: 0s - loss: 0.3353 - accuracy: 0.84 - 0s 21us/step - loss: 0.3355 - accuracy: 0.8419 - val_loss: 0.3335 - val_accuracy: 0.8442\n",
      "Epoch 91/100\n",
      "22792/22792 [==============================] - 0s 20us/step - loss: 0.3355 - accuracy: 0.8427 - val_loss: 0.3338 - val_accuracy: 0.8449\n",
      "Epoch 92/100\n",
      "22792/22792 [==============================] - ETA: 0s - loss: 0.3339 - accuracy: 0.84 - 0s 19us/step - loss: 0.3353 - accuracy: 0.8419 - val_loss: 0.3333 - val_accuracy: 0.8454\n",
      "Epoch 93/100\n",
      "22792/22792 [==============================] - 0s 19us/step - loss: 0.3351 - accuracy: 0.8425 - val_loss: 0.3332 - val_accuracy: 0.8436\n",
      "Epoch 94/100\n",
      "22792/22792 [==============================] - 0s 20us/step - loss: 0.3350 - accuracy: 0.8420 - val_loss: 0.3330 - val_accuracy: 0.8450\n",
      "Epoch 95/100\n",
      "22792/22792 [==============================] - 0s 20us/step - loss: 0.3349 - accuracy: 0.8431 - val_loss: 0.3329 - val_accuracy: 0.8453\n",
      "Epoch 96/100\n",
      "22792/22792 [==============================] - 1s 23us/step - loss: 0.3348 - accuracy: 0.8429 - val_loss: 0.3328 - val_accuracy: 0.8443\n",
      "Epoch 97/100\n",
      "22792/22792 [==============================] - 0s 19us/step - loss: 0.3345 - accuracy: 0.8428 - val_loss: 0.3334 - val_accuracy: 0.8444\n",
      "Epoch 98/100\n",
      "22792/22792 [==============================] - 1s 22us/step - loss: 0.3344 - accuracy: 0.8417 - val_loss: 0.3333 - val_accuracy: 0.8434\n",
      "Epoch 99/100\n",
      "22792/22792 [==============================] - 0s 21us/step - loss: 0.3344 - accuracy: 0.8434 - val_loss: 0.3327 - val_accuracy: 0.8448\n",
      "Epoch 100/100\n",
      "22792/22792 [==============================] - 0s 19us/step - loss: 0.3344 - accuracy: 0.8422 - val_loss: 0.3324 - val_accuracy: 0.8453\n"
     ]
    }
   ],
   "source": [
    "model3.compile(loss = 'binary_crossentropy', optimizer = 'sgd', metrics = ['accuracy'])\n",
    "historial3 = model3.fit(X_MinMax, dataset_result.salario, validation_split = 0.3, epochs = 100, batch_size = 200, verbose = 1)"
   ]
  },
  {
   "cell_type": "code",
   "execution_count": 102,
   "metadata": {},
   "outputs": [
    {
     "data": {
      "image/png": "[encoded data removed]",
      "text/plain": [
       "<Figure size 432x288 with 1 Axes>"
      ]
     },
     "metadata": {
      "needs_background": "light"
     },
     "output_type": "display_data"
    }
   ],
   "source": [
    "pp.plot(historial3.history['accuracy'])\n",
    "pp.plot(historial3.history['val_accuracy'])\n",
    "pp.title('Precisión del Modelo (Train vs Test)')\n",
    "pp.ylabel('Precisión')\n",
    "pp.xlabel('Épocas')\n",
    "pp.legend(['Train','Test'], loc = 'upper right')\n",
    "pp.grid(True)\n",
    "pp.show()"
   ]
  },
  {
   "cell_type": "code",
   "execution_count": 103,
   "metadata": {},
   "outputs": [
    {
     "data": {
      "image/png": "[encoded data removed]",
      "text/plain": [
       "<Figure size 432x288 with 1 Axes>"
      ]
     },
     "metadata": {
      "needs_background": "light"
     },
     "output_type": "display_data"
    }
   ],
   "source": [
    "pp.plot(historial3.history['loss'])\n",
    "pp.plot(historial3.history['val_loss'])\n",
    "pp.title('Log loss del Modelo (Train vs Test)')\n",
    "pp.ylabel('Precisión')\n",
    "pp.xlabel('Loss')\n",
    "pp.legend(['Train','Test'], loc = 'upper right')\n",
    "pp.grid(True)\n",
    "pp.show()"
   ]
  },
  {
   "cell_type": "markdown",
   "metadata": {},
   "source": [
    "### MATRIZ DE CONFUSION"
   ]
  },
  {
   "cell_type": "code",
   "execution_count": 116,
   "metadata": {},
   "outputs": [],
   "source": [
    "from sklearn.metrics import confusion_matrix\n",
    "from sklearn.model_selection import train_test_split"
   ]
  },
  {
   "cell_type": "code",
   "execution_count": 130,
   "metadata": {},
   "outputs": [],
   "source": [
    "X_train, X_test, y_train, y_test = train_test_split(X_MinMax, dataset_result.salario, test_size = 0.3,\\\n",
    "                                                    stratify = dataset_result.salario)"
   ]
  },
  {
   "cell_type": "code",
   "execution_count": 131,
   "metadata": {},
   "outputs": [
    {
     "data": {
      "text/plain": [
       "array([[0.],\n",
       "       [0.],\n",
       "       [0.],\n",
       "       ...,\n",
       "       [1.],\n",
       "       [1.],\n",
       "       [0.]], dtype=float32)"
      ]
     },
     "execution_count": 131,
     "metadata": {},
     "output_type": "execute_result"
    }
   ],
   "source": [
    "predictions = model3.predict(X_test).round()\n",
    "predictions"
   ]
  },
  {
   "cell_type": "code",
   "execution_count": 133,
   "metadata": {},
   "outputs": [
    {
     "data": {
      "text/html": [
       "<div>\n",
       "<style scoped>\n",
       "    .dataframe tbody tr th:only-of-type {\n",
       "        vertical-align: middle;\n",
       "    }\n",
       "\n",
       "    .dataframe tbody tr th {\n",
       "        vertical-align: top;\n",
       "    }\n",
       "\n",
       "    .dataframe thead th {\n",
       "        text-align: right;\n",
       "    }\n",
       "</style>\n",
       "<table border=\"1\" class=\"dataframe\">\n",
       "  <thead>\n",
       "    <tr style=\"text-align: right;\">\n",
       "      <th></th>\n",
       "      <th>0</th>\n",
       "      <th>1</th>\n",
       "    </tr>\n",
       "  </thead>\n",
       "  <tbody>\n",
       "    <tr>\n",
       "      <th>0</th>\n",
       "      <td>6893</td>\n",
       "      <td>524</td>\n",
       "    </tr>\n",
       "    <tr>\n",
       "      <th>1</th>\n",
       "      <td>979</td>\n",
       "      <td>1373</td>\n",
       "    </tr>\n",
       "  </tbody>\n",
       "</table>\n",
       "</div>"
      ],
      "text/plain": [
       "      0     1\n",
       "0  6893   524\n",
       "1   979  1373"
      ]
     },
     "execution_count": 133,
     "metadata": {},
     "output_type": "execute_result"
    }
   ],
   "source": [
    "confusion = confusion_matrix(y_test, predictions)\n",
    "pd.DataFrame(confusion)"
   ]
  },
  {
   "cell_type": "markdown",
   "metadata": {},
   "source": [
    "### FUNCION PARA PRUEBA COMPLETA\n",
    "\n",
    "Cabe aclarar que el dataset que se intente probar debe tener la misma cantidad de columnas con su respectiva estructura."
   ]
  },
  {
   "cell_type": "code",
   "execution_count": 138,
   "metadata": {},
   "outputs": [],
   "source": [
    "# Realizamos la funcion para el entrenamiento de prueba completa\n",
    "\n",
    "def clasificaicon_keras(file_name):\n",
    "    # leemos el dataset\n",
    "    dataset = pd.read_csv(file_name, header=None)\n",
    "    \n",
    "    # Obtiene los datos numericos\n",
    "    dataset_num = dataset.iloc[:,[0, 2, 4, 10, 11, 12]]\n",
    "    dataset_num.columns = COLUMS_NUMERICAS\n",
    "    # Obtiene los datos categoricos\n",
    "    dataset_text = dataset.iloc[:,[1, 3, 5, 6, 7, 8, 9, 13, 14]]\n",
    "    dataset_text.columns = COLUMS_CATEGORICAS\n",
    "    \n",
    "    # Tranformamos los datos\n",
    "    dataset_num.replace(to_replace =\" ?\", value =\"0\")\n",
    "    preprocesador = make_column_transformer((OrdinalEncoder(), COLUMS_CATEGORICAS), remainder='passthrough')\n",
    "    data_transformada = preprocesador.fit_transform(dataset_text)\n",
    "    dataset_text = pd.DataFrame(data_transformada, columns=COLUMS_CATEGORICAS)\n",
    "    \n",
    "    # Normalizamos los datos\n",
    "    dataset_result = pd.concat([dataset_num, dataset_text], axis=1)\n",
    "    X_dataset = dataset_result.iloc[:,0:14]\n",
    "    minMaxScaler = MinMaxScaler(feature_range = (-1, 1))\n",
    "    X_MinMax = pd.DataFrame(minMaxScaler.fit_transform(X_dataset))\n",
    "    \n",
    "    # Ejecutamos los entrenamientos\n",
    "    model = Sequential()\n",
    "    model.add(Dense(14, activation = 'relu', input_shape = (14, )))\n",
    "    model.add(Dense(20, activation = 'relu'))\n",
    "    model.add(Dense(1, activation = 'sigmoid'))\n",
    "    model.compile(loss = 'binary_crossentropy', optimizer = 'sgd', metrics = ['accuracy'])\n",
    "    historial = model.fit(X_MinMax, dataset_result.salario, validation_split = 0.3, epochs = 100, batch_size = 200,\n",
    "                          verbose = 1)\n",
    "    \n",
    "    # Graficamos los datos\n",
    "    plot1 = pp.figure(1)\n",
    "    pp.plot(historial3.history['accuracy'])\n",
    "    pp.plot(historial3.history['val_accuracy'])\n",
    "    pp.title('Precisión del Modelo (Train vs Test)')\n",
    "    pp.ylabel('Precisión')\n",
    "    pp.xlabel('Épocas')\n",
    "    pp.legend(['Train','Test'], loc = 'upper right')\n",
    "    pp.grid(True)\n",
    "    pp.show()\n",
    "    \n",
    "    plot2 = pp.figure(2)\n",
    "    pp.plot(historial3.history['loss'])\n",
    "    pp.plot(historial3.history['val_loss'])\n",
    "    pp.title('Log loss del Modelo (Train vs Test)')\n",
    "    pp.ylabel('Precisión')\n",
    "    pp.xlabel('Loss')\n",
    "    pp.legend(['Train','Test'], loc = 'upper right')\n",
    "    pp.grid(True)\n",
    "    pp.show()\n",
    "    \n",
    "    # Matriz de cnfusion\n",
    "    X_train, X_test, y_train, y_test = train_test_split(X_MinMax, dataset_result.salario, test_size = 0.3,\\\n",
    "                                                    stratify = dataset_result.salario)\n",
    "    predictions = model.predict(X_test).round()\n",
    "    confusion = confusion_matrix(y_test, predictions)\n",
    "    print(\"MATRIZ DE CONFUSION \\n\", pd.DataFrame(confusion))"
   ]
  },
  {
   "cell_type": "code",
   "execution_count": 1,
   "metadata": {},
   "outputs": [
    {
     "ename": "NameError",
     "evalue": "name 'clasificaicon_keras' is not defined",
     "output_type": "error",
     "traceback": [
      "\u001b[1;31m---------------------------------------------------------------------------\u001b[0m",
      "\u001b[1;31mNameError\u001b[0m                                 Traceback (most recent call last)",
      "\u001b[1;32m<ipython-input-1-96c526dc1b1d>\u001b[0m in \u001b[0;36m<module>\u001b[1;34m\u001b[0m\n\u001b[0;32m      1\u001b[0m \u001b[1;31m# ejecutamos la funcion\u001b[0m\u001b[1;33m\u001b[0m\u001b[1;33m\u001b[0m\u001b[1;33m\u001b[0m\u001b[0m\n\u001b[1;32m----> 2\u001b[1;33m \u001b[0mclasificaicon_keras\u001b[0m\u001b[1;33m(\u001b[0m\u001b[1;34m\"datos-censo.data\"\u001b[0m\u001b[1;33m)\u001b[0m\u001b[1;33m\u001b[0m\u001b[1;33m\u001b[0m\u001b[0m\n\u001b[0m",
      "\u001b[1;31mNameError\u001b[0m: name 'clasificaicon_keras' is not defined"
     ]
    }
   ],
   "source": [
    "# ejecutamos la funcion\n",
    "clasificaicon_keras(\"datos-censo.data\")"
   ]
  },
  {
   "cell_type": "code",
   "execution_count": null,
   "metadata": {},
   "outputs": [],
   "source": []
  }
 ],
 "metadata": {
  "kernelspec": {
   "display_name": "Python 3",
   "language": "python",
   "name": "python3"
  },
  "language_info": {
   "codemirror_mode": {
    "name": "ipython",
    "version": 3
   },
   "file_extension": ".py",
   "mimetype": "text/x-python",
   "name": "python",
   "nbconvert_exporter": "python",
   "pygments_lexer": "ipython3",
   "version": "3.7.3"
  }
 },
 "nbformat": 4,
 "nbformat_minor": 2
}
